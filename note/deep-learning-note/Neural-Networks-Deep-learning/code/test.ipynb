{
 "cells": [
  {
   "cell_type": "code",
   "execution_count": 1,
   "id": "initial_id",
   "metadata": {},
   "outputs": [
    {
     "name": "stdout",
     "output_type": "stream",
     "text": [
      "[1 2 3 4]\n",
      "249912.30624483267\n",
      "Vectorized version:1.2078285217285156ms\n",
      "249912.30624484346\n",
      "For loop:585.0100517272949ms\n"
     ]
    }
   ],
   "source": [
    "import numpy as np #导入numpy库\n",
    "a = np.array([1,2,3,4]) #创建一个数据a\n",
    "print(a)\n",
    "# [1 2 3 4]\n",
    "import time #导入时间库\n",
    "a = np.random.rand(1000000)\n",
    "b = np.random.rand(1000000) #通过round随机得到两个一百万维度的数组\n",
    "\n",
    "tic = time.time() #现在测量一下当前时间\n",
    "#向量化的版本\n",
    "c = np.dot(a,b)\n",
    "toc = time.time()\n",
    "print(c)\n",
    "print('Vectorized version:' + str(1000*(toc-tic)) +'ms') #打印一下向量化的版本的时间\n",
    "\n",
    "#继续增加非向量化的版本\n",
    "c = 0\n",
    "tic = time.time()\n",
    "for i in range(1000000):\n",
    "    c += a[i]*b[i]\n",
    "toc = time.time()\n",
    "print(c)\n",
    "print('For loop:' + str(1000*(toc-tic)) + 'ms')#打印for循环的版本的时间"
   ]
  },
  {
   "cell_type": "code",
   "execution_count": 2,
   "id": "a46642a4-6af1-4313-b34d-93a8a8e81b7f",
   "metadata": {},
   "outputs": [
    {
     "name": "stdout",
     "output_type": "stream",
     "text": [
      "[[ 56.    0.    4.4  68. ]\n",
      " [  1.2 104.   52.    8. ]\n",
      " [  1.8 135.   99.    0.9]]\n"
     ]
    }
   ],
   "source": [
    "A = np.array([\n",
    "    [56, 0, 4.4, 68],\n",
    "    [1.2, 104, 52, 8],\n",
    "    [1.8, 135, 99, 0.9]\n",
    "])\n",
    "print(A)"
   ]
  },
  {
   "cell_type": "code",
   "execution_count": 3,
   "id": "8c906918-ef04-4e19-9b36-11c6e65c6235",
   "metadata": {},
   "outputs": [
    {
     "name": "stdout",
     "output_type": "stream",
     "text": [
      "[ 59.  239.  155.4  76.9]\n"
     ]
    }
   ],
   "source": [
    "cal = A.sum(axis=0)  # 按列求和\n",
    "print(cal)"
   ]
  },
  {
   "cell_type": "code",
   "execution_count": 4,
   "id": "03f42b54-699c-46b1-bf2a-4b00cdfc4054",
   "metadata": {},
   "outputs": [
    {
     "data": {
      "text/plain": [
       "(4,)"
      ]
     },
     "execution_count": 4,
     "metadata": {},
     "output_type": "execute_result"
    }
   ],
   "source": [
    "cal.shape"
   ]
  },
  {
   "cell_type": "code",
   "execution_count": 5,
   "id": "7d829c6e-945e-4690-8722-de08b52c96f2",
   "metadata": {},
   "outputs": [
    {
     "name": "stdout",
     "output_type": "stream",
     "text": [
      "[[94.91525424  0.          2.83140283 88.42652796]\n",
      " [ 2.03389831 43.51464435 33.46203346 10.40312094]\n",
      " [ 3.05084746 56.48535565 63.70656371  1.17035111]]\n"
     ]
    }
   ],
   "source": [
    "# 广播机制：广播会在缺失和（或）长度为1的维度上进行\n",
    "percentage = 100 * A / cal\n",
    "print(percentage)"
   ]
  },
  {
   "cell_type": "code",
   "execution_count": 6,
   "id": "289cc76a-b8da-4be5-b79d-f0a6896106a6",
   "metadata": {},
   "outputs": [
    {
     "data": {
      "text/plain": [
       "array([[ 59. , 239. , 155.4,  76.9]])"
      ]
     },
     "execution_count": 6,
     "metadata": {},
     "output_type": "execute_result"
    }
   ],
   "source": [
    "cal.reshape(1, 4)"
   ]
  },
  {
   "cell_type": "code",
   "execution_count": 7,
   "id": "59e8ff10-691e-41e8-ad14-4d9d46c57b31",
   "metadata": {},
   "outputs": [
    {
     "name": "stdout",
     "output_type": "stream",
     "text": [
      "[[94.91525424  0.          2.83140283 88.42652796]\n",
      " [ 2.03389831 43.51464435 33.46203346 10.40312094]\n",
      " [ 3.05084746 56.48535565 63.70656371  1.17035111]]\n"
     ]
    }
   ],
   "source": [
    "# 广播机制：广播会在缺失和（或）长度为1的维度上进行\n",
    "percentage = 100 * A / cal.reshape(1, 4)\n",
    "print(percentage)"
   ]
  },
  {
   "cell_type": "code",
   "execution_count": null,
   "id": "143d91a6-ee86-4d99-ba94-4eb784faea9f",
   "metadata": {},
   "outputs": [],
   "source": []
  }
 ],
 "metadata": {
  "kernelspec": {
   "display_name": "Python 3 (ipykernel)",
   "language": "python",
   "name": "python3"
  },
  "language_info": {
   "codemirror_mode": {
    "name": "ipython",
    "version": 3
   },
   "file_extension": ".py",
   "mimetype": "text/x-python",
   "name": "python",
   "nbconvert_exporter": "python",
   "pygments_lexer": "ipython3",
   "version": "3.12.0"
  }
 },
 "nbformat": 4,
 "nbformat_minor": 5
}
