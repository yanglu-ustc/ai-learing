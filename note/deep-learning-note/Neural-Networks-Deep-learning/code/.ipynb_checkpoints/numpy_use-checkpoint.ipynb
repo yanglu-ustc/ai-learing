{
 "cells": [
  {
   "cell_type": "code",
   "execution_count": 1,
   "id": "7b138b03-a942-4565-b2d1-f92c3f5d240c",
   "metadata": {},
   "outputs": [],
   "source": [
    "import numpy as np\n",
    "# 不建议进行使用\n",
    "a = np.random.randn(5)"
   ]
  },
  {
   "cell_type": "code",
   "execution_count": 2,
   "id": "a30df58c-ca92-4844-b5b8-28df2164637d",
   "metadata": {},
   "outputs": [
    {
     "data": {
      "text/plain": [
       "array([1.40465476, 0.50266648, 0.54775614, 0.7365914 , 0.55782364])"
      ]
     },
     "execution_count": 2,
     "metadata": {},
     "output_type": "execute_result"
    }
   ],
   "source": [
    "a"
   ]
  },
  {
   "cell_type": "code",
   "execution_count": 3,
   "id": "2f56460f-6d3e-4921-9979-928ad5e3fcbe",
   "metadata": {},
   "outputs": [
    {
     "data": {
      "text/plain": [
       "(5,)"
      ]
     },
     "execution_count": 3,
     "metadata": {},
     "output_type": "execute_result"
    }
   ],
   "source": [
    "a.shape"
   ]
  },
  {
   "cell_type": "code",
   "execution_count": 4,
   "id": "1aecb6ca-ccae-483d-9e51-f4cac8629a00",
   "metadata": {},
   "outputs": [
    {
     "data": {
      "text/plain": [
       "array([1.40465476, 0.50266648, 0.54775614, 0.7365914 , 0.55782364])"
      ]
     },
     "execution_count": 4,
     "metadata": {},
     "output_type": "execute_result"
    }
   ],
   "source": [
    "a.T"
   ]
  },
  {
   "cell_type": "code",
   "execution_count": 5,
   "id": "22173f7d-5660-4db1-bb4a-c8900cff7bca",
   "metadata": {},
   "outputs": [
    {
     "data": {
      "text/plain": [
       "(5,)"
      ]
     },
     "execution_count": 5,
     "metadata": {},
     "output_type": "execute_result"
    }
   ],
   "source": [
    "a.T.shape"
   ]
  },
  {
   "cell_type": "code",
   "execution_count": 6,
   "id": "71a92f3a-de00-45ad-bfb6-7077375be722",
   "metadata": {},
   "outputs": [
    {
     "data": {
      "text/plain": [
       "3.37949946043273"
      ]
     },
     "execution_count": 6,
     "metadata": {},
     "output_type": "execute_result"
    }
   ],
   "source": [
    "np.dot(a,a.T)"
   ]
  },
  {
   "cell_type": "code",
   "execution_count": 7,
   "id": "f61324da-119a-4cb0-8d71-174f0bdb0881",
   "metadata": {},
   "outputs": [
    {
     "data": {
      "text/plain": [
       "3.37949946043273"
      ]
     },
     "execution_count": 7,
     "metadata": {},
     "output_type": "execute_result"
    }
   ],
   "source": [
    "np.dot(a.T,a)"
   ]
  },
  {
   "cell_type": "markdown",
   "id": "e10ec467-5d2e-498c-b708-6629e95f09c2",
   "metadata": {},
   "source": [
    "**我们不建议使用shape是(n,)这种形式的数组！！！**"
   ]
  },
  {
   "cell_type": "code",
   "execution_count": 8,
   "id": "2f36004a-9376-4d50-abc0-1a0cf1a2c620",
   "metadata": {},
   "outputs": [],
   "source": [
    "a = np.random.randn(5,1)"
   ]
  },
  {
   "cell_type": "code",
   "execution_count": 9,
   "id": "22940417-4d7b-4140-9985-c87ffa6be868",
   "metadata": {},
   "outputs": [
    {
     "data": {
      "text/plain": [
       "array([[-1.04968096],\n",
       "       [-0.00611597],\n",
       "       [ 0.14022047],\n",
       "       [ 0.20177434],\n",
       "       [ 0.08587255]])"
      ]
     },
     "execution_count": 9,
     "metadata": {},
     "output_type": "execute_result"
    }
   ],
   "source": [
    "a"
   ]
  },
  {
   "cell_type": "code",
   "execution_count": 10,
   "id": "fba6de71-e518-4a9f-a23f-d6f12c4000a8",
   "metadata": {},
   "outputs": [],
   "source": [
    "assert a.shape==(5,1)"
   ]
  },
  {
   "cell_type": "code",
   "execution_count": 11,
   "id": "2ee71bed-b083-45d1-96e1-b36adb75ef91",
   "metadata": {},
   "outputs": [
    {
     "data": {
      "text/plain": [
       "array([[-1.04968096, -0.00611597,  0.14022047,  0.20177434,  0.08587255]])"
      ]
     },
     "execution_count": 11,
     "metadata": {},
     "output_type": "execute_result"
    }
   ],
   "source": [
    "a.T"
   ]
  },
  {
   "cell_type": "code",
   "execution_count": 12,
   "id": "647a98f7-29cf-4af6-9887-4af910d7b387",
   "metadata": {},
   "outputs": [
    {
     "data": {
      "text/plain": [
       "array([[ 1.10183012e+00,  6.41981954e-03, -1.47186755e-01,\n",
       "        -2.11798686e-01, -9.01387851e-02],\n",
       "       [ 6.41981954e-03,  3.74051156e-05, -8.57584481e-04,\n",
       "        -1.23404627e-03, -5.25194152e-04],\n",
       "       [-1.47186755e-01, -8.57584481e-04,  1.96617797e-02,\n",
       "         2.82928928e-02,  1.20410897e-02],\n",
       "       [-2.11798686e-01, -1.23404627e-03,  2.82928928e-02,\n",
       "         4.07128854e-02,  1.73268782e-02],\n",
       "       [-9.01387851e-02, -5.25194152e-04,  1.20410897e-02,\n",
       "         1.73268782e-02,  7.37409556e-03]])"
      ]
     },
     "execution_count": 12,
     "metadata": {},
     "output_type": "execute_result"
    }
   ],
   "source": [
    "np.dot(a,a.T)"
   ]
  },
  {
   "cell_type": "code",
   "execution_count": 13,
   "id": "37b29e8d-5745-4ad1-abbc-939bff211346",
   "metadata": {},
   "outputs": [
    {
     "data": {
      "text/plain": [
       "array([[1.16961628]])"
      ]
     },
     "execution_count": 13,
     "metadata": {},
     "output_type": "execute_result"
    }
   ],
   "source": [
    "np.dot(a.T,a)"
   ]
  },
  {
   "cell_type": "markdown",
   "id": "6b78d389-c4b5-42d1-ba0d-670c876175c0",
   "metadata": {},
   "source": [
    "在这其中可以使用assert进行断言，断言失败等价于抛出异常，\n",
    "**格式是:assert expression_1 [,'expression_2'] 'expression_2'是抛出异常的说明**\n",
    "\n",
    "assert a.shape==(5,1)"
   ]
  },
  {
   "cell_type": "code",
   "execution_count": 14,
   "id": "4d1d14d6-75a2-4321-bd42-bb799ecf8f35",
   "metadata": {},
   "outputs": [
    {
     "ename": "AssertionError",
     "evalue": "矩阵的格式不正确",
     "output_type": "error",
     "traceback": [
      "\u001b[1;31m---------------------------------------------------------------------------\u001b[0m",
      "\u001b[1;31mAssertionError\u001b[0m                            Traceback (most recent call last)",
      "Cell \u001b[1;32mIn[14], line 1\u001b[0m\n\u001b[1;32m----> 1\u001b[0m \u001b[38;5;28;01massert\u001b[39;00m a\u001b[38;5;241m.\u001b[39mshape\u001b[38;5;241m==\u001b[39m(\u001b[38;5;241m1\u001b[39m,\u001b[38;5;241m5\u001b[39m),\u001b[38;5;124m'\u001b[39m\u001b[38;5;124m矩阵的格式不正确\u001b[39m\u001b[38;5;124m'\u001b[39m\n",
      "\u001b[1;31mAssertionError\u001b[0m: 矩阵的格式不正确"
     ]
    }
   ],
   "source": [
    "assert a.shape==(1,5),'矩阵的格式不正确'"
   ]
  },
  {
   "cell_type": "code",
   "execution_count": null,
   "id": "dabfae09-f25b-4b1b-a8a9-64c4b2725d31",
   "metadata": {},
   "outputs": [],
   "source": [
    "# 上一步因为assert不成立，所以抛出异常！！！！！\n",
    "1+1"
   ]
  },
  {
   "cell_type": "code",
   "execution_count": null,
   "id": "65ab87e8-a0dc-45c9-8798-d63669336f99",
   "metadata": {},
   "outputs": [],
   "source": []
  }
 ],
 "metadata": {
  "kernelspec": {
   "display_name": "Python 3 (ipykernel)",
   "language": "python",
   "name": "python3"
  },
  "language_info": {
   "codemirror_mode": {
    "name": "ipython",
    "version": 3
   },
   "file_extension": ".py",
   "mimetype": "text/x-python",
   "name": "python",
   "nbconvert_exporter": "python",
   "pygments_lexer": "ipython3",
   "version": "3.12.0"
  }
 },
 "nbformat": 4,
 "nbformat_minor": 5
}
