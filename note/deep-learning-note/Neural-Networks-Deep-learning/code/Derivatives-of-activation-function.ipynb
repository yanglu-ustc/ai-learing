{
 "cells": [
  {
   "cell_type": "code",
   "execution_count": 1,
   "id": "initial_id",
   "metadata": {
    "collapsed": true,
    "ExecuteTime": {
     "end_time": "2024-04-22T14:45:15.722278Z",
     "start_time": "2024-04-22T14:45:15.168693Z"
    }
   },
   "outputs": [
    {
     "name": "stdout",
     "output_type": "stream",
     "text": [
      "对x求导： exp(-x)/(1 + exp(-x))**2\n"
     ]
    }
   ],
   "source": [
    "from sympy import *\n",
    "\n",
    "g = symbols('g', cls=Function)\n",
    "x = symbols('x')\n",
    "eq = 1 / (1 + E ** (-x))\n",
    "dx = diff(eq, x)\n",
    "print(\"对x求导：\", dx)"
   ]
  },
  {
   "cell_type": "code",
   "outputs": [
    {
     "name": "stdout",
     "output_type": "stream",
     "text": [
      "对x求导： 1 - tanh(x)**2\n"
     ]
    }
   ],
   "source": [
    "eq = tanh(x)\n",
    "dx = diff(eq, x)\n",
    "print(\"对x求导：\", dx)"
   ],
   "metadata": {
    "collapsed": false,
    "ExecuteTime": {
     "end_time": "2024-04-22T14:48:02.721598Z",
     "start_time": "2024-04-22T14:48:02.705456Z"
    }
   },
   "id": "a171a7443a7862e6",
   "execution_count": 2
  },
  {
   "cell_type": "code",
   "outputs": [],
   "source": [],
   "metadata": {
    "collapsed": false
   },
   "id": "4b0786f1170761d1"
  }
 ],
 "metadata": {
  "kernelspec": {
   "display_name": "Python 3",
   "language": "python",
   "name": "python3"
  },
  "language_info": {
   "codemirror_mode": {
    "name": "ipython",
    "version": 2
   },
   "file_extension": ".py",
   "mimetype": "text/x-python",
   "name": "python",
   "nbconvert_exporter": "python",
   "pygments_lexer": "ipython2",
   "version": "2.7.6"
  }
 },
 "nbformat": 4,
 "nbformat_minor": 5
}
