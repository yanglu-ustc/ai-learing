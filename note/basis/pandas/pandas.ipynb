{
 "cells": [
  {
   "cell_type": "markdown",
   "id": "a48171b5-f96a-4f91-b665-50b50cc6fc4a",
   "metadata": {},
   "source": [
    "# Pandas介绍\n",
    "+ 数据处理的工具\n",
    ">panel + data + analysis\n",
    ">\n",
    ">panal：面板 —— 计量经济学 三维数据\n",
    "+ 为什么使用Pandas\n",
    ">+ 便捷的数据处理的能力\n",
    ">+ 读取文件方便\n",
    ">+ 封装了Matplotlib、Numpy的画图和计算"
   ]
  },
  {
   "cell_type": "markdown",
   "id": "73a00a5f-9e36-4de9-9ac9-fef1478ba3e5",
   "metadata": {
    "jp-MarkdownHeadingCollapsed": true
   },
   "source": [
    "## DataFrame"
   ]
  },
  {
   "cell_type": "code",
   "execution_count": 1,
   "id": "ed47bc99-a1d8-45a0-91de-1b2d901817c2",
   "metadata": {},
   "outputs": [],
   "source": [
    "import numpy as np\n",
    "# 创建一个符合正态分布的10个股票5天的涨跌幅数据\n",
    "stock_change = np.random.normal(0, 1, (10, 5))"
   ]
  },
  {
   "cell_type": "code",
   "execution_count": 2,
   "id": "9d1f97a2-8452-433d-9495-9940e1391951",
   "metadata": {},
   "outputs": [
    {
     "data": {
      "text/plain": [
       "array([[ 1.09629157,  1.10763676, -0.98500869, -1.5006537 ,  0.55881131],\n",
       "       [-1.29885423, -0.88070749,  0.1554621 , -0.32476641, -1.47946062],\n",
       "       [ 0.36339988,  1.77840269,  0.84879836, -0.77582565, -1.29749879],\n",
       "       [ 1.0330722 ,  0.3435801 , -1.48445542,  1.05049011, -0.57474345],\n",
       "       [ 0.188679  ,  0.93678173,  0.85923003, -0.57215226,  0.64560324],\n",
       "       [-2.00007057,  1.56425644, -0.03964991, -0.49410639,  0.51567985],\n",
       "       [ 0.74669866, -0.25048137, -2.01800242, -0.92892566,  0.85287794],\n",
       "       [ 1.27339923,  1.77244245, -1.30750427,  1.6888909 ,  0.41701808],\n",
       "       [-0.2767939 , -0.28539394,  2.23238892,  1.03679272, -0.07230797],\n",
       "       [ 0.00309757,  1.66384956,  0.25799826,  2.24711981,  0.52112342]])"
      ]
     },
     "execution_count": 2,
     "metadata": {},
     "output_type": "execute_result"
    }
   ],
   "source": [
    "stock_change"
   ]
  },
  {
   "cell_type": "code",
   "execution_count": 3,
   "id": "953f1f6d-cac2-45d4-a813-dd064972b9cd",
   "metadata": {},
   "outputs": [],
   "source": [
    "import pandas as pd"
   ]
  },
  {
   "cell_type": "code",
   "execution_count": 4,
   "id": "b7aa55cd-c404-45d2-acad-043b9709296d",
   "metadata": {},
   "outputs": [
    {
     "data": {
      "text/html": [
       "<div>\n",
       "<style scoped>\n",
       "    .dataframe tbody tr th:only-of-type {\n",
       "        vertical-align: middle;\n",
       "    }\n",
       "\n",
       "    .dataframe tbody tr th {\n",
       "        vertical-align: top;\n",
       "    }\n",
       "\n",
       "    .dataframe thead th {\n",
       "        text-align: right;\n",
       "    }\n",
       "</style>\n",
       "<table border=\"1\" class=\"dataframe\">\n",
       "  <thead>\n",
       "    <tr style=\"text-align: right;\">\n",
       "      <th></th>\n",
       "      <th>0</th>\n",
       "      <th>1</th>\n",
       "      <th>2</th>\n",
       "      <th>3</th>\n",
       "      <th>4</th>\n",
       "    </tr>\n",
       "  </thead>\n",
       "  <tbody>\n",
       "    <tr>\n",
       "      <th>0</th>\n",
       "      <td>1.096292</td>\n",
       "      <td>1.107637</td>\n",
       "      <td>-0.985009</td>\n",
       "      <td>-1.500654</td>\n",
       "      <td>0.558811</td>\n",
       "    </tr>\n",
       "    <tr>\n",
       "      <th>1</th>\n",
       "      <td>-1.298854</td>\n",
       "      <td>-0.880707</td>\n",
       "      <td>0.155462</td>\n",
       "      <td>-0.324766</td>\n",
       "      <td>-1.479461</td>\n",
       "    </tr>\n",
       "    <tr>\n",
       "      <th>2</th>\n",
       "      <td>0.363400</td>\n",
       "      <td>1.778403</td>\n",
       "      <td>0.848798</td>\n",
       "      <td>-0.775826</td>\n",
       "      <td>-1.297499</td>\n",
       "    </tr>\n",
       "    <tr>\n",
       "      <th>3</th>\n",
       "      <td>1.033072</td>\n",
       "      <td>0.343580</td>\n",
       "      <td>-1.484455</td>\n",
       "      <td>1.050490</td>\n",
       "      <td>-0.574743</td>\n",
       "    </tr>\n",
       "    <tr>\n",
       "      <th>4</th>\n",
       "      <td>0.188679</td>\n",
       "      <td>0.936782</td>\n",
       "      <td>0.859230</td>\n",
       "      <td>-0.572152</td>\n",
       "      <td>0.645603</td>\n",
       "    </tr>\n",
       "    <tr>\n",
       "      <th>5</th>\n",
       "      <td>-2.000071</td>\n",
       "      <td>1.564256</td>\n",
       "      <td>-0.039650</td>\n",
       "      <td>-0.494106</td>\n",
       "      <td>0.515680</td>\n",
       "    </tr>\n",
       "    <tr>\n",
       "      <th>6</th>\n",
       "      <td>0.746699</td>\n",
       "      <td>-0.250481</td>\n",
       "      <td>-2.018002</td>\n",
       "      <td>-0.928926</td>\n",
       "      <td>0.852878</td>\n",
       "    </tr>\n",
       "    <tr>\n",
       "      <th>7</th>\n",
       "      <td>1.273399</td>\n",
       "      <td>1.772442</td>\n",
       "      <td>-1.307504</td>\n",
       "      <td>1.688891</td>\n",
       "      <td>0.417018</td>\n",
       "    </tr>\n",
       "    <tr>\n",
       "      <th>8</th>\n",
       "      <td>-0.276794</td>\n",
       "      <td>-0.285394</td>\n",
       "      <td>2.232389</td>\n",
       "      <td>1.036793</td>\n",
       "      <td>-0.072308</td>\n",
       "    </tr>\n",
       "    <tr>\n",
       "      <th>9</th>\n",
       "      <td>0.003098</td>\n",
       "      <td>1.663850</td>\n",
       "      <td>0.257998</td>\n",
       "      <td>2.247120</td>\n",
       "      <td>0.521123</td>\n",
       "    </tr>\n",
       "  </tbody>\n",
       "</table>\n",
       "</div>"
      ],
      "text/plain": [
       "          0         1         2         3         4\n",
       "0  1.096292  1.107637 -0.985009 -1.500654  0.558811\n",
       "1 -1.298854 -0.880707  0.155462 -0.324766 -1.479461\n",
       "2  0.363400  1.778403  0.848798 -0.775826 -1.297499\n",
       "3  1.033072  0.343580 -1.484455  1.050490 -0.574743\n",
       "4  0.188679  0.936782  0.859230 -0.572152  0.645603\n",
       "5 -2.000071  1.564256 -0.039650 -0.494106  0.515680\n",
       "6  0.746699 -0.250481 -2.018002 -0.928926  0.852878\n",
       "7  1.273399  1.772442 -1.307504  1.688891  0.417018\n",
       "8 -0.276794 -0.285394  2.232389  1.036793 -0.072308\n",
       "9  0.003098  1.663850  0.257998  2.247120  0.521123"
      ]
     },
     "execution_count": 4,
     "metadata": {},
     "output_type": "execute_result"
    }
   ],
   "source": [
    "pd.DataFrame(stock_change)"
   ]
  },
  {
   "cell_type": "code",
   "execution_count": 5,
   "id": "6ba05dfc-bd32-417b-bd89-b94967d85d2d",
   "metadata": {},
   "outputs": [
    {
     "data": {
      "text/html": [
       "<div>\n",
       "<style scoped>\n",
       "    .dataframe tbody tr th:only-of-type {\n",
       "        vertical-align: middle;\n",
       "    }\n",
       "\n",
       "    .dataframe tbody tr th {\n",
       "        vertical-align: top;\n",
       "    }\n",
       "\n",
       "    .dataframe thead th {\n",
       "        text-align: right;\n",
       "    }\n",
       "</style>\n",
       "<table border=\"1\" class=\"dataframe\">\n",
       "  <thead>\n",
       "    <tr style=\"text-align: right;\">\n",
       "      <th></th>\n",
       "      <th>0</th>\n",
       "      <th>1</th>\n",
       "      <th>2</th>\n",
       "      <th>3</th>\n",
       "      <th>4</th>\n",
       "    </tr>\n",
       "  </thead>\n",
       "  <tbody>\n",
       "    <tr>\n",
       "      <th>股票0</th>\n",
       "      <td>1.096292</td>\n",
       "      <td>1.107637</td>\n",
       "      <td>-0.985009</td>\n",
       "      <td>-1.500654</td>\n",
       "      <td>0.558811</td>\n",
       "    </tr>\n",
       "    <tr>\n",
       "      <th>股票1</th>\n",
       "      <td>-1.298854</td>\n",
       "      <td>-0.880707</td>\n",
       "      <td>0.155462</td>\n",
       "      <td>-0.324766</td>\n",
       "      <td>-1.479461</td>\n",
       "    </tr>\n",
       "    <tr>\n",
       "      <th>股票2</th>\n",
       "      <td>0.363400</td>\n",
       "      <td>1.778403</td>\n",
       "      <td>0.848798</td>\n",
       "      <td>-0.775826</td>\n",
       "      <td>-1.297499</td>\n",
       "    </tr>\n",
       "    <tr>\n",
       "      <th>股票3</th>\n",
       "      <td>1.033072</td>\n",
       "      <td>0.343580</td>\n",
       "      <td>-1.484455</td>\n",
       "      <td>1.050490</td>\n",
       "      <td>-0.574743</td>\n",
       "    </tr>\n",
       "    <tr>\n",
       "      <th>股票4</th>\n",
       "      <td>0.188679</td>\n",
       "      <td>0.936782</td>\n",
       "      <td>0.859230</td>\n",
       "      <td>-0.572152</td>\n",
       "      <td>0.645603</td>\n",
       "    </tr>\n",
       "    <tr>\n",
       "      <th>股票5</th>\n",
       "      <td>-2.000071</td>\n",
       "      <td>1.564256</td>\n",
       "      <td>-0.039650</td>\n",
       "      <td>-0.494106</td>\n",
       "      <td>0.515680</td>\n",
       "    </tr>\n",
       "    <tr>\n",
       "      <th>股票6</th>\n",
       "      <td>0.746699</td>\n",
       "      <td>-0.250481</td>\n",
       "      <td>-2.018002</td>\n",
       "      <td>-0.928926</td>\n",
       "      <td>0.852878</td>\n",
       "    </tr>\n",
       "    <tr>\n",
       "      <th>股票7</th>\n",
       "      <td>1.273399</td>\n",
       "      <td>1.772442</td>\n",
       "      <td>-1.307504</td>\n",
       "      <td>1.688891</td>\n",
       "      <td>0.417018</td>\n",
       "    </tr>\n",
       "    <tr>\n",
       "      <th>股票8</th>\n",
       "      <td>-0.276794</td>\n",
       "      <td>-0.285394</td>\n",
       "      <td>2.232389</td>\n",
       "      <td>1.036793</td>\n",
       "      <td>-0.072308</td>\n",
       "    </tr>\n",
       "    <tr>\n",
       "      <th>股票9</th>\n",
       "      <td>0.003098</td>\n",
       "      <td>1.663850</td>\n",
       "      <td>0.257998</td>\n",
       "      <td>2.247120</td>\n",
       "      <td>0.521123</td>\n",
       "    </tr>\n",
       "  </tbody>\n",
       "</table>\n",
       "</div>"
      ],
      "text/plain": [
       "            0         1         2         3         4\n",
       "股票0  1.096292  1.107637 -0.985009 -1.500654  0.558811\n",
       "股票1 -1.298854 -0.880707  0.155462 -0.324766 -1.479461\n",
       "股票2  0.363400  1.778403  0.848798 -0.775826 -1.297499\n",
       "股票3  1.033072  0.343580 -1.484455  1.050490 -0.574743\n",
       "股票4  0.188679  0.936782  0.859230 -0.572152  0.645603\n",
       "股票5 -2.000071  1.564256 -0.039650 -0.494106  0.515680\n",
       "股票6  0.746699 -0.250481 -2.018002 -0.928926  0.852878\n",
       "股票7  1.273399  1.772442 -1.307504  1.688891  0.417018\n",
       "股票8 -0.276794 -0.285394  2.232389  1.036793 -0.072308\n",
       "股票9  0.003098  1.663850  0.257998  2.247120  0.521123"
      ]
     },
     "execution_count": 5,
     "metadata": {},
     "output_type": "execute_result"
    }
   ],
   "source": [
    "# 添加行索引：index\n",
    "stock = [\"股票{}\".format(i) for i in range(10)]\n",
    "pd.DataFrame(stock_change, index=stock)"
   ]
  },
  {
   "cell_type": "code",
   "execution_count": 6,
   "id": "7ab813e3-fb7a-4946-8156-33693b33a026",
   "metadata": {},
   "outputs": [],
   "source": [
    "# 添加列索引：colume\n",
    "# 可以使用end=\"\"表示结束时间\n",
    "# freq=\"B\" —— 表示工作日频率\n",
    "date = pd.date_range(start=\"20180101\", periods=5, freq=\"B\")"
   ]
  },
  {
   "cell_type": "code",
   "execution_count": 7,
   "id": "1b3264e7-5b3b-4ccd-8da1-37c9b5482d2b",
   "metadata": {},
   "outputs": [
    {
     "data": {
      "text/plain": [
       "DatetimeIndex(['2018-01-01', '2018-01-02', '2018-01-03', '2018-01-04',\n",
       "               '2018-01-05'],\n",
       "              dtype='datetime64[ns]', freq='B')"
      ]
     },
     "execution_count": 7,
     "metadata": {},
     "output_type": "execute_result"
    }
   ],
   "source": [
    "date"
   ]
  },
  {
   "cell_type": "code",
   "execution_count": 8,
   "id": "34e365fd-d24a-473d-b18f-4fa0efadda3d",
   "metadata": {},
   "outputs": [],
   "source": [
    "data = pd.DataFrame(stock_change, index=stock, columns=date)"
   ]
  },
  {
   "cell_type": "code",
   "execution_count": 9,
   "id": "9072bab4-ee33-4ba7-ac2a-25ee066de6ed",
   "metadata": {},
   "outputs": [
    {
     "data": {
      "text/html": [
       "<div>\n",
       "<style scoped>\n",
       "    .dataframe tbody tr th:only-of-type {\n",
       "        vertical-align: middle;\n",
       "    }\n",
       "\n",
       "    .dataframe tbody tr th {\n",
       "        vertical-align: top;\n",
       "    }\n",
       "\n",
       "    .dataframe thead th {\n",
       "        text-align: right;\n",
       "    }\n",
       "</style>\n",
       "<table border=\"1\" class=\"dataframe\">\n",
       "  <thead>\n",
       "    <tr style=\"text-align: right;\">\n",
       "      <th></th>\n",
       "      <th>2018-01-01</th>\n",
       "      <th>2018-01-02</th>\n",
       "      <th>2018-01-03</th>\n",
       "      <th>2018-01-04</th>\n",
       "      <th>2018-01-05</th>\n",
       "    </tr>\n",
       "  </thead>\n",
       "  <tbody>\n",
       "    <tr>\n",
       "      <th>股票0</th>\n",
       "      <td>1.096292</td>\n",
       "      <td>1.107637</td>\n",
       "      <td>-0.985009</td>\n",
       "      <td>-1.500654</td>\n",
       "      <td>0.558811</td>\n",
       "    </tr>\n",
       "    <tr>\n",
       "      <th>股票1</th>\n",
       "      <td>-1.298854</td>\n",
       "      <td>-0.880707</td>\n",
       "      <td>0.155462</td>\n",
       "      <td>-0.324766</td>\n",
       "      <td>-1.479461</td>\n",
       "    </tr>\n",
       "    <tr>\n",
       "      <th>股票2</th>\n",
       "      <td>0.363400</td>\n",
       "      <td>1.778403</td>\n",
       "      <td>0.848798</td>\n",
       "      <td>-0.775826</td>\n",
       "      <td>-1.297499</td>\n",
       "    </tr>\n",
       "    <tr>\n",
       "      <th>股票3</th>\n",
       "      <td>1.033072</td>\n",
       "      <td>0.343580</td>\n",
       "      <td>-1.484455</td>\n",
       "      <td>1.050490</td>\n",
       "      <td>-0.574743</td>\n",
       "    </tr>\n",
       "    <tr>\n",
       "      <th>股票4</th>\n",
       "      <td>0.188679</td>\n",
       "      <td>0.936782</td>\n",
       "      <td>0.859230</td>\n",
       "      <td>-0.572152</td>\n",
       "      <td>0.645603</td>\n",
       "    </tr>\n",
       "    <tr>\n",
       "      <th>股票5</th>\n",
       "      <td>-2.000071</td>\n",
       "      <td>1.564256</td>\n",
       "      <td>-0.039650</td>\n",
       "      <td>-0.494106</td>\n",
       "      <td>0.515680</td>\n",
       "    </tr>\n",
       "    <tr>\n",
       "      <th>股票6</th>\n",
       "      <td>0.746699</td>\n",
       "      <td>-0.250481</td>\n",
       "      <td>-2.018002</td>\n",
       "      <td>-0.928926</td>\n",
       "      <td>0.852878</td>\n",
       "    </tr>\n",
       "    <tr>\n",
       "      <th>股票7</th>\n",
       "      <td>1.273399</td>\n",
       "      <td>1.772442</td>\n",
       "      <td>-1.307504</td>\n",
       "      <td>1.688891</td>\n",
       "      <td>0.417018</td>\n",
       "    </tr>\n",
       "    <tr>\n",
       "      <th>股票8</th>\n",
       "      <td>-0.276794</td>\n",
       "      <td>-0.285394</td>\n",
       "      <td>2.232389</td>\n",
       "      <td>1.036793</td>\n",
       "      <td>-0.072308</td>\n",
       "    </tr>\n",
       "    <tr>\n",
       "      <th>股票9</th>\n",
       "      <td>0.003098</td>\n",
       "      <td>1.663850</td>\n",
       "      <td>0.257998</td>\n",
       "      <td>2.247120</td>\n",
       "      <td>0.521123</td>\n",
       "    </tr>\n",
       "  </tbody>\n",
       "</table>\n",
       "</div>"
      ],
      "text/plain": [
       "     2018-01-01  2018-01-02  2018-01-03  2018-01-04  2018-01-05\n",
       "股票0    1.096292    1.107637   -0.985009   -1.500654    0.558811\n",
       "股票1   -1.298854   -0.880707    0.155462   -0.324766   -1.479461\n",
       "股票2    0.363400    1.778403    0.848798   -0.775826   -1.297499\n",
       "股票3    1.033072    0.343580   -1.484455    1.050490   -0.574743\n",
       "股票4    0.188679    0.936782    0.859230   -0.572152    0.645603\n",
       "股票5   -2.000071    1.564256   -0.039650   -0.494106    0.515680\n",
       "股票6    0.746699   -0.250481   -2.018002   -0.928926    0.852878\n",
       "股票7    1.273399    1.772442   -1.307504    1.688891    0.417018\n",
       "股票8   -0.276794   -0.285394    2.232389    1.036793   -0.072308\n",
       "股票9    0.003098    1.663850    0.257998    2.247120    0.521123"
      ]
     },
     "execution_count": 9,
     "metadata": {},
     "output_type": "execute_result"
    }
   ],
   "source": [
    "data"
   ]
  },
  {
   "cell_type": "code",
   "execution_count": 12,
   "id": "aea81400-a632-4660-837c-6761e613fc01",
   "metadata": {},
   "outputs": [
    {
     "data": {
      "text/plain": [
       "(10, 5)"
      ]
     },
     "execution_count": 12,
     "metadata": {},
     "output_type": "execute_result"
    }
   ],
   "source": [
    "# 已经对行数加了一行了！！！！\n",
    "data.shape"
   ]
  },
  {
   "cell_type": "markdown",
   "id": "99546a82-3f9f-42f2-a534-419b771d84a5",
   "metadata": {},
   "source": [
    "### DataFrame的属性"
   ]
  },
  {
   "cell_type": "code",
   "execution_count": 13,
   "id": "bd4e8acb-9442-4c88-9439-8135abb1e541",
   "metadata": {},
   "outputs": [
    {
     "data": {
      "text/plain": [
       "(10, 5)"
      ]
     },
     "execution_count": 13,
     "metadata": {},
     "output_type": "execute_result"
    }
   ],
   "source": [
    "data.shape"
   ]
  },
  {
   "cell_type": "code",
   "execution_count": 14,
   "id": "67d25df2-335d-46f5-a70a-2b6c8d4d4b03",
   "metadata": {},
   "outputs": [
    {
     "data": {
      "text/plain": [
       "Index(['股票0', '股票1', '股票2', '股票3', '股票4', '股票5', '股票6', '股票7', '股票8', '股票9'], dtype='object')"
      ]
     },
     "execution_count": 14,
     "metadata": {},
     "output_type": "execute_result"
    }
   ],
   "source": [
    "data.index"
   ]
  },
  {
   "cell_type": "code",
   "execution_count": 15,
   "id": "5e4b7607-9cbb-49b7-a8d1-69f1c0973ab0",
   "metadata": {},
   "outputs": [
    {
     "data": {
      "text/plain": [
       "DatetimeIndex(['2018-01-01', '2018-01-02', '2018-01-03', '2018-01-04',\n",
       "               '2018-01-05'],\n",
       "              dtype='datetime64[ns]', freq='B')"
      ]
     },
     "execution_count": 15,
     "metadata": {},
     "output_type": "execute_result"
    }
   ],
   "source": [
    "data.columns"
   ]
  },
  {
   "cell_type": "code",
   "execution_count": 16,
   "id": "f1b5fb3b-a13e-466b-8d86-ccc7096fbf1e",
   "metadata": {},
   "outputs": [
    {
     "data": {
      "text/plain": [
       "array([[ 1.09629157,  1.10763676, -0.98500869, -1.5006537 ,  0.55881131],\n",
       "       [-1.29885423, -0.88070749,  0.1554621 , -0.32476641, -1.47946062],\n",
       "       [ 0.36339988,  1.77840269,  0.84879836, -0.77582565, -1.29749879],\n",
       "       [ 1.0330722 ,  0.3435801 , -1.48445542,  1.05049011, -0.57474345],\n",
       "       [ 0.188679  ,  0.93678173,  0.85923003, -0.57215226,  0.64560324],\n",
       "       [-2.00007057,  1.56425644, -0.03964991, -0.49410639,  0.51567985],\n",
       "       [ 0.74669866, -0.25048137, -2.01800242, -0.92892566,  0.85287794],\n",
       "       [ 1.27339923,  1.77244245, -1.30750427,  1.6888909 ,  0.41701808],\n",
       "       [-0.2767939 , -0.28539394,  2.23238892,  1.03679272, -0.07230797],\n",
       "       [ 0.00309757,  1.66384956,  0.25799826,  2.24711981,  0.52112342]])"
      ]
     },
     "execution_count": 16,
     "metadata": {},
     "output_type": "execute_result"
    }
   ],
   "source": [
    "data.values"
   ]
  },
  {
   "cell_type": "code",
   "execution_count": 17,
   "id": "1d2179ce-1dec-4684-88c5-fc6084b26484",
   "metadata": {},
   "outputs": [
    {
     "data": {
      "text/html": [
       "<div>\n",
       "<style scoped>\n",
       "    .dataframe tbody tr th:only-of-type {\n",
       "        vertical-align: middle;\n",
       "    }\n",
       "\n",
       "    .dataframe tbody tr th {\n",
       "        vertical-align: top;\n",
       "    }\n",
       "\n",
       "    .dataframe thead th {\n",
       "        text-align: right;\n",
       "    }\n",
       "</style>\n",
       "<table border=\"1\" class=\"dataframe\">\n",
       "  <thead>\n",
       "    <tr style=\"text-align: right;\">\n",
       "      <th></th>\n",
       "      <th>股票0</th>\n",
       "      <th>股票1</th>\n",
       "      <th>股票2</th>\n",
       "      <th>股票3</th>\n",
       "      <th>股票4</th>\n",
       "      <th>股票5</th>\n",
       "      <th>股票6</th>\n",
       "      <th>股票7</th>\n",
       "      <th>股票8</th>\n",
       "      <th>股票9</th>\n",
       "    </tr>\n",
       "  </thead>\n",
       "  <tbody>\n",
       "    <tr>\n",
       "      <th>2018-01-01</th>\n",
       "      <td>1.096292</td>\n",
       "      <td>-1.298854</td>\n",
       "      <td>0.363400</td>\n",
       "      <td>1.033072</td>\n",
       "      <td>0.188679</td>\n",
       "      <td>-2.000071</td>\n",
       "      <td>0.746699</td>\n",
       "      <td>1.273399</td>\n",
       "      <td>-0.276794</td>\n",
       "      <td>0.003098</td>\n",
       "    </tr>\n",
       "    <tr>\n",
       "      <th>2018-01-02</th>\n",
       "      <td>1.107637</td>\n",
       "      <td>-0.880707</td>\n",
       "      <td>1.778403</td>\n",
       "      <td>0.343580</td>\n",
       "      <td>0.936782</td>\n",
       "      <td>1.564256</td>\n",
       "      <td>-0.250481</td>\n",
       "      <td>1.772442</td>\n",
       "      <td>-0.285394</td>\n",
       "      <td>1.663850</td>\n",
       "    </tr>\n",
       "    <tr>\n",
       "      <th>2018-01-03</th>\n",
       "      <td>-0.985009</td>\n",
       "      <td>0.155462</td>\n",
       "      <td>0.848798</td>\n",
       "      <td>-1.484455</td>\n",
       "      <td>0.859230</td>\n",
       "      <td>-0.039650</td>\n",
       "      <td>-2.018002</td>\n",
       "      <td>-1.307504</td>\n",
       "      <td>2.232389</td>\n",
       "      <td>0.257998</td>\n",
       "    </tr>\n",
       "    <tr>\n",
       "      <th>2018-01-04</th>\n",
       "      <td>-1.500654</td>\n",
       "      <td>-0.324766</td>\n",
       "      <td>-0.775826</td>\n",
       "      <td>1.050490</td>\n",
       "      <td>-0.572152</td>\n",
       "      <td>-0.494106</td>\n",
       "      <td>-0.928926</td>\n",
       "      <td>1.688891</td>\n",
       "      <td>1.036793</td>\n",
       "      <td>2.247120</td>\n",
       "    </tr>\n",
       "    <tr>\n",
       "      <th>2018-01-05</th>\n",
       "      <td>0.558811</td>\n",
       "      <td>-1.479461</td>\n",
       "      <td>-1.297499</td>\n",
       "      <td>-0.574743</td>\n",
       "      <td>0.645603</td>\n",
       "      <td>0.515680</td>\n",
       "      <td>0.852878</td>\n",
       "      <td>0.417018</td>\n",
       "      <td>-0.072308</td>\n",
       "      <td>0.521123</td>\n",
       "    </tr>\n",
       "  </tbody>\n",
       "</table>\n",
       "</div>"
      ],
      "text/plain": [
       "                 股票0       股票1       股票2       股票3       股票4       股票5  \\\n",
       "2018-01-01  1.096292 -1.298854  0.363400  1.033072  0.188679 -2.000071   \n",
       "2018-01-02  1.107637 -0.880707  1.778403  0.343580  0.936782  1.564256   \n",
       "2018-01-03 -0.985009  0.155462  0.848798 -1.484455  0.859230 -0.039650   \n",
       "2018-01-04 -1.500654 -0.324766 -0.775826  1.050490 -0.572152 -0.494106   \n",
       "2018-01-05  0.558811 -1.479461 -1.297499 -0.574743  0.645603  0.515680   \n",
       "\n",
       "                 股票6       股票7       股票8       股票9  \n",
       "2018-01-01  0.746699  1.273399 -0.276794  0.003098  \n",
       "2018-01-02 -0.250481  1.772442 -0.285394  1.663850  \n",
       "2018-01-03 -2.018002 -1.307504  2.232389  0.257998  \n",
       "2018-01-04 -0.928926  1.688891  1.036793  2.247120  \n",
       "2018-01-05  0.852878  0.417018 -0.072308  0.521123  "
      ]
     },
     "execution_count": 17,
     "metadata": {},
     "output_type": "execute_result"
    }
   ],
   "source": [
    "data.T"
   ]
  },
  {
   "cell_type": "code",
   "execution_count": 18,
   "id": "12253804-e757-4c17-9dbc-2458d4001798",
   "metadata": {},
   "outputs": [
    {
     "data": {
      "text/html": [
       "<div>\n",
       "<style scoped>\n",
       "    .dataframe tbody tr th:only-of-type {\n",
       "        vertical-align: middle;\n",
       "    }\n",
       "\n",
       "    .dataframe tbody tr th {\n",
       "        vertical-align: top;\n",
       "    }\n",
       "\n",
       "    .dataframe thead th {\n",
       "        text-align: right;\n",
       "    }\n",
       "</style>\n",
       "<table border=\"1\" class=\"dataframe\">\n",
       "  <thead>\n",
       "    <tr style=\"text-align: right;\">\n",
       "      <th></th>\n",
       "      <th>2018-01-01</th>\n",
       "      <th>2018-01-02</th>\n",
       "      <th>2018-01-03</th>\n",
       "      <th>2018-01-04</th>\n",
       "      <th>2018-01-05</th>\n",
       "    </tr>\n",
       "  </thead>\n",
       "  <tbody>\n",
       "    <tr>\n",
       "      <th>股票0</th>\n",
       "      <td>1.096292</td>\n",
       "      <td>1.107637</td>\n",
       "      <td>-0.985009</td>\n",
       "      <td>-1.500654</td>\n",
       "      <td>0.558811</td>\n",
       "    </tr>\n",
       "    <tr>\n",
       "      <th>股票1</th>\n",
       "      <td>-1.298854</td>\n",
       "      <td>-0.880707</td>\n",
       "      <td>0.155462</td>\n",
       "      <td>-0.324766</td>\n",
       "      <td>-1.479461</td>\n",
       "    </tr>\n",
       "    <tr>\n",
       "      <th>股票2</th>\n",
       "      <td>0.363400</td>\n",
       "      <td>1.778403</td>\n",
       "      <td>0.848798</td>\n",
       "      <td>-0.775826</td>\n",
       "      <td>-1.297499</td>\n",
       "    </tr>\n",
       "  </tbody>\n",
       "</table>\n",
       "</div>"
      ],
      "text/plain": [
       "     2018-01-01  2018-01-02  2018-01-03  2018-01-04  2018-01-05\n",
       "股票0    1.096292    1.107637   -0.985009   -1.500654    0.558811\n",
       "股票1   -1.298854   -0.880707    0.155462   -0.324766   -1.479461\n",
       "股票2    0.363400    1.778403    0.848798   -0.775826   -1.297499"
      ]
     },
     "execution_count": 18,
     "metadata": {},
     "output_type": "execute_result"
    }
   ],
   "source": [
    "# 最上面的几行进行截取，默认是截取5行\n",
    "data.head(3)"
   ]
  },
  {
   "cell_type": "code",
   "execution_count": 19,
   "id": "c0d3c45f-e465-4307-9b97-0a333ee4ab9c",
   "metadata": {},
   "outputs": [
    {
     "data": {
      "text/html": [
       "<div>\n",
       "<style scoped>\n",
       "    .dataframe tbody tr th:only-of-type {\n",
       "        vertical-align: middle;\n",
       "    }\n",
       "\n",
       "    .dataframe tbody tr th {\n",
       "        vertical-align: top;\n",
       "    }\n",
       "\n",
       "    .dataframe thead th {\n",
       "        text-align: right;\n",
       "    }\n",
       "</style>\n",
       "<table border=\"1\" class=\"dataframe\">\n",
       "  <thead>\n",
       "    <tr style=\"text-align: right;\">\n",
       "      <th></th>\n",
       "      <th>2018-01-01</th>\n",
       "      <th>2018-01-02</th>\n",
       "      <th>2018-01-03</th>\n",
       "      <th>2018-01-04</th>\n",
       "      <th>2018-01-05</th>\n",
       "    </tr>\n",
       "  </thead>\n",
       "  <tbody>\n",
       "    <tr>\n",
       "      <th>股票8</th>\n",
       "      <td>-0.276794</td>\n",
       "      <td>-0.285394</td>\n",
       "      <td>2.232389</td>\n",
       "      <td>1.036793</td>\n",
       "      <td>-0.072308</td>\n",
       "    </tr>\n",
       "    <tr>\n",
       "      <th>股票9</th>\n",
       "      <td>0.003098</td>\n",
       "      <td>1.663850</td>\n",
       "      <td>0.257998</td>\n",
       "      <td>2.247120</td>\n",
       "      <td>0.521123</td>\n",
       "    </tr>\n",
       "  </tbody>\n",
       "</table>\n",
       "</div>"
      ],
      "text/plain": [
       "     2018-01-01  2018-01-02  2018-01-03  2018-01-04  2018-01-05\n",
       "股票8   -0.276794   -0.285394    2.232389    1.036793   -0.072308\n",
       "股票9    0.003098    1.663850    0.257998    2.247120    0.521123"
      ]
     },
     "execution_count": 19,
     "metadata": {},
     "output_type": "execute_result"
    }
   ],
   "source": [
    "# 最下面的几行进行截取，默认是截取5行\n",
    "data.tail(2)"
   ]
  },
  {
   "cell_type": "markdown",
   "id": "06aefe81-da0c-46aa-94c6-52dcf6e6c79a",
   "metadata": {},
   "source": [
    "### DataFrame索引的设置"
   ]
  },
  {
   "cell_type": "markdown",
   "id": "12a2f5ee-7c92-48b7-b56c-3df6b4400889",
   "metadata": {
    "jp-MarkdownHeadingCollapsed": true
   },
   "source": [
    "#### 修改行列索引值"
   ]
  },
  {
   "cell_type": "code",
   "execution_count": 20,
   "id": "70058834-55eb-401c-96b9-0fa2f49923f2",
   "metadata": {},
   "outputs": [],
   "source": [
    "# data.index[2] = \"股票88\" 不能单独修改索引"
   ]
  },
  {
   "cell_type": "code",
   "execution_count": 21,
   "id": "87327845-787e-4acb-aae2-f90161c723bc",
   "metadata": {},
   "outputs": [
    {
     "data": {
      "text/html": [
       "<div>\n",
       "<style scoped>\n",
       "    .dataframe tbody tr th:only-of-type {\n",
       "        vertical-align: middle;\n",
       "    }\n",
       "\n",
       "    .dataframe tbody tr th {\n",
       "        vertical-align: top;\n",
       "    }\n",
       "\n",
       "    .dataframe thead th {\n",
       "        text-align: right;\n",
       "    }\n",
       "</style>\n",
       "<table border=\"1\" class=\"dataframe\">\n",
       "  <thead>\n",
       "    <tr style=\"text-align: right;\">\n",
       "      <th></th>\n",
       "      <th>2018-01-01</th>\n",
       "      <th>2018-01-02</th>\n",
       "      <th>2018-01-03</th>\n",
       "      <th>2018-01-04</th>\n",
       "      <th>2018-01-05</th>\n",
       "    </tr>\n",
       "  </thead>\n",
       "  <tbody>\n",
       "    <tr>\n",
       "      <th>股票_0</th>\n",
       "      <td>1.096292</td>\n",
       "      <td>1.107637</td>\n",
       "      <td>-0.985009</td>\n",
       "      <td>-1.500654</td>\n",
       "      <td>0.558811</td>\n",
       "    </tr>\n",
       "    <tr>\n",
       "      <th>股票_1</th>\n",
       "      <td>-1.298854</td>\n",
       "      <td>-0.880707</td>\n",
       "      <td>0.155462</td>\n",
       "      <td>-0.324766</td>\n",
       "      <td>-1.479461</td>\n",
       "    </tr>\n",
       "    <tr>\n",
       "      <th>股票_2</th>\n",
       "      <td>0.363400</td>\n",
       "      <td>1.778403</td>\n",
       "      <td>0.848798</td>\n",
       "      <td>-0.775826</td>\n",
       "      <td>-1.297499</td>\n",
       "    </tr>\n",
       "    <tr>\n",
       "      <th>股票_3</th>\n",
       "      <td>1.033072</td>\n",
       "      <td>0.343580</td>\n",
       "      <td>-1.484455</td>\n",
       "      <td>1.050490</td>\n",
       "      <td>-0.574743</td>\n",
       "    </tr>\n",
       "    <tr>\n",
       "      <th>股票_4</th>\n",
       "      <td>0.188679</td>\n",
       "      <td>0.936782</td>\n",
       "      <td>0.859230</td>\n",
       "      <td>-0.572152</td>\n",
       "      <td>0.645603</td>\n",
       "    </tr>\n",
       "    <tr>\n",
       "      <th>股票_5</th>\n",
       "      <td>-2.000071</td>\n",
       "      <td>1.564256</td>\n",
       "      <td>-0.039650</td>\n",
       "      <td>-0.494106</td>\n",
       "      <td>0.515680</td>\n",
       "    </tr>\n",
       "    <tr>\n",
       "      <th>股票_6</th>\n",
       "      <td>0.746699</td>\n",
       "      <td>-0.250481</td>\n",
       "      <td>-2.018002</td>\n",
       "      <td>-0.928926</td>\n",
       "      <td>0.852878</td>\n",
       "    </tr>\n",
       "    <tr>\n",
       "      <th>股票_7</th>\n",
       "      <td>1.273399</td>\n",
       "      <td>1.772442</td>\n",
       "      <td>-1.307504</td>\n",
       "      <td>1.688891</td>\n",
       "      <td>0.417018</td>\n",
       "    </tr>\n",
       "    <tr>\n",
       "      <th>股票_8</th>\n",
       "      <td>-0.276794</td>\n",
       "      <td>-0.285394</td>\n",
       "      <td>2.232389</td>\n",
       "      <td>1.036793</td>\n",
       "      <td>-0.072308</td>\n",
       "    </tr>\n",
       "    <tr>\n",
       "      <th>股票_9</th>\n",
       "      <td>0.003098</td>\n",
       "      <td>1.663850</td>\n",
       "      <td>0.257998</td>\n",
       "      <td>2.247120</td>\n",
       "      <td>0.521123</td>\n",
       "    </tr>\n",
       "  </tbody>\n",
       "</table>\n",
       "</div>"
      ],
      "text/plain": [
       "      2018-01-01  2018-01-02  2018-01-03  2018-01-04  2018-01-05\n",
       "股票_0    1.096292    1.107637   -0.985009   -1.500654    0.558811\n",
       "股票_1   -1.298854   -0.880707    0.155462   -0.324766   -1.479461\n",
       "股票_2    0.363400    1.778403    0.848798   -0.775826   -1.297499\n",
       "股票_3    1.033072    0.343580   -1.484455    1.050490   -0.574743\n",
       "股票_4    0.188679    0.936782    0.859230   -0.572152    0.645603\n",
       "股票_5   -2.000071    1.564256   -0.039650   -0.494106    0.515680\n",
       "股票_6    0.746699   -0.250481   -2.018002   -0.928926    0.852878\n",
       "股票_7    1.273399    1.772442   -1.307504    1.688891    0.417018\n",
       "股票_8   -0.276794   -0.285394    2.232389    1.036793   -0.072308\n",
       "股票_9    0.003098    1.663850    0.257998    2.247120    0.521123"
      ]
     },
     "execution_count": 21,
     "metadata": {},
     "output_type": "execute_result"
    }
   ],
   "source": [
    "stock_ = [\"股票_{}\".format(i) for i in range(10)]\n",
    "data.index = stock_\n",
    "data"
   ]
  },
  {
   "cell_type": "markdown",
   "id": "1985360c-e3d0-477e-adc8-323c5d4abd05",
   "metadata": {
    "jp-MarkdownHeadingCollapsed": true
   },
   "source": [
    "#### 重设索引"
   ]
  },
  {
   "cell_type": "code",
   "execution_count": 22,
   "id": "00a2c2a0-207c-495e-acd8-b10955af46a1",
   "metadata": {},
   "outputs": [
    {
     "data": {
      "text/html": [
       "<div>\n",
       "<style scoped>\n",
       "    .dataframe tbody tr th:only-of-type {\n",
       "        vertical-align: middle;\n",
       "    }\n",
       "\n",
       "    .dataframe tbody tr th {\n",
       "        vertical-align: top;\n",
       "    }\n",
       "\n",
       "    .dataframe thead th {\n",
       "        text-align: right;\n",
       "    }\n",
       "</style>\n",
       "<table border=\"1\" class=\"dataframe\">\n",
       "  <thead>\n",
       "    <tr style=\"text-align: right;\">\n",
       "      <th></th>\n",
       "      <th>index</th>\n",
       "      <th>2018-01-01 00:00:00</th>\n",
       "      <th>2018-01-02 00:00:00</th>\n",
       "      <th>2018-01-03 00:00:00</th>\n",
       "      <th>2018-01-04 00:00:00</th>\n",
       "      <th>2018-01-05 00:00:00</th>\n",
       "    </tr>\n",
       "  </thead>\n",
       "  <tbody>\n",
       "    <tr>\n",
       "      <th>0</th>\n",
       "      <td>股票_0</td>\n",
       "      <td>1.096292</td>\n",
       "      <td>1.107637</td>\n",
       "      <td>-0.985009</td>\n",
       "      <td>-1.500654</td>\n",
       "      <td>0.558811</td>\n",
       "    </tr>\n",
       "    <tr>\n",
       "      <th>1</th>\n",
       "      <td>股票_1</td>\n",
       "      <td>-1.298854</td>\n",
       "      <td>-0.880707</td>\n",
       "      <td>0.155462</td>\n",
       "      <td>-0.324766</td>\n",
       "      <td>-1.479461</td>\n",
       "    </tr>\n",
       "    <tr>\n",
       "      <th>2</th>\n",
       "      <td>股票_2</td>\n",
       "      <td>0.363400</td>\n",
       "      <td>1.778403</td>\n",
       "      <td>0.848798</td>\n",
       "      <td>-0.775826</td>\n",
       "      <td>-1.297499</td>\n",
       "    </tr>\n",
       "    <tr>\n",
       "      <th>3</th>\n",
       "      <td>股票_3</td>\n",
       "      <td>1.033072</td>\n",
       "      <td>0.343580</td>\n",
       "      <td>-1.484455</td>\n",
       "      <td>1.050490</td>\n",
       "      <td>-0.574743</td>\n",
       "    </tr>\n",
       "    <tr>\n",
       "      <th>4</th>\n",
       "      <td>股票_4</td>\n",
       "      <td>0.188679</td>\n",
       "      <td>0.936782</td>\n",
       "      <td>0.859230</td>\n",
       "      <td>-0.572152</td>\n",
       "      <td>0.645603</td>\n",
       "    </tr>\n",
       "    <tr>\n",
       "      <th>5</th>\n",
       "      <td>股票_5</td>\n",
       "      <td>-2.000071</td>\n",
       "      <td>1.564256</td>\n",
       "      <td>-0.039650</td>\n",
       "      <td>-0.494106</td>\n",
       "      <td>0.515680</td>\n",
       "    </tr>\n",
       "    <tr>\n",
       "      <th>6</th>\n",
       "      <td>股票_6</td>\n",
       "      <td>0.746699</td>\n",
       "      <td>-0.250481</td>\n",
       "      <td>-2.018002</td>\n",
       "      <td>-0.928926</td>\n",
       "      <td>0.852878</td>\n",
       "    </tr>\n",
       "    <tr>\n",
       "      <th>7</th>\n",
       "      <td>股票_7</td>\n",
       "      <td>1.273399</td>\n",
       "      <td>1.772442</td>\n",
       "      <td>-1.307504</td>\n",
       "      <td>1.688891</td>\n",
       "      <td>0.417018</td>\n",
       "    </tr>\n",
       "    <tr>\n",
       "      <th>8</th>\n",
       "      <td>股票_8</td>\n",
       "      <td>-0.276794</td>\n",
       "      <td>-0.285394</td>\n",
       "      <td>2.232389</td>\n",
       "      <td>1.036793</td>\n",
       "      <td>-0.072308</td>\n",
       "    </tr>\n",
       "    <tr>\n",
       "      <th>9</th>\n",
       "      <td>股票_9</td>\n",
       "      <td>0.003098</td>\n",
       "      <td>1.663850</td>\n",
       "      <td>0.257998</td>\n",
       "      <td>2.247120</td>\n",
       "      <td>0.521123</td>\n",
       "    </tr>\n",
       "  </tbody>\n",
       "</table>\n",
       "</div>"
      ],
      "text/plain": [
       "  index  2018-01-01 00:00:00  2018-01-02 00:00:00  2018-01-03 00:00:00  \\\n",
       "0  股票_0             1.096292             1.107637            -0.985009   \n",
       "1  股票_1            -1.298854            -0.880707             0.155462   \n",
       "2  股票_2             0.363400             1.778403             0.848798   \n",
       "3  股票_3             1.033072             0.343580            -1.484455   \n",
       "4  股票_4             0.188679             0.936782             0.859230   \n",
       "5  股票_5            -2.000071             1.564256            -0.039650   \n",
       "6  股票_6             0.746699            -0.250481            -2.018002   \n",
       "7  股票_7             1.273399             1.772442            -1.307504   \n",
       "8  股票_8            -0.276794            -0.285394             2.232389   \n",
       "9  股票_9             0.003098             1.663850             0.257998   \n",
       "\n",
       "   2018-01-04 00:00:00  2018-01-05 00:00:00  \n",
       "0            -1.500654             0.558811  \n",
       "1            -0.324766            -1.479461  \n",
       "2            -0.775826            -1.297499  \n",
       "3             1.050490            -0.574743  \n",
       "4            -0.572152             0.645603  \n",
       "5            -0.494106             0.515680  \n",
       "6            -0.928926             0.852878  \n",
       "7             1.688891             0.417018  \n",
       "8             1.036793            -0.072308  \n",
       "9             2.247120             0.521123  "
      ]
     },
     "execution_count": 22,
     "metadata": {},
     "output_type": "execute_result"
    }
   ],
   "source": [
    "data.reset_index()"
   ]
  },
  {
   "cell_type": "code",
   "execution_count": 25,
   "id": "8ce3217e-e650-4377-9ad3-c0d75619881c",
   "metadata": {},
   "outputs": [
    {
     "data": {
      "text/plain": [
       "(10, 6)"
      ]
     },
     "execution_count": 25,
     "metadata": {},
     "output_type": "execute_result"
    }
   ],
   "source": [
    "# 重设会加一列，也就是最左边的那一列数据！！！！\n",
    "data.reset_index().shape"
   ]
  },
  {
   "cell_type": "markdown",
   "id": "5b1306d1-f78a-4360-8da5-fb00bc319af2",
   "metadata": {
    "jp-MarkdownHeadingCollapsed": true
   },
   "source": [
    "#### 设置新索引"
   ]
  },
  {
   "cell_type": "code",
   "execution_count": 27,
   "id": "63809bd3-aa00-4d26-a96e-459971fb5ed4",
   "metadata": {},
   "outputs": [],
   "source": [
    "df = pd.DataFrame({'month': [1, 4, 7, 10],\n",
    "                    'year': [2012, 2014, 2013, 2014],\n",
    "                    'sale':[55, 40, 84, 31]})"
   ]
  },
  {
   "cell_type": "code",
   "execution_count": 28,
   "id": "ca4e378a-cbb7-4a8e-bcc5-09745a5db66a",
   "metadata": {},
   "outputs": [
    {
     "data": {
      "text/html": [
       "<div>\n",
       "<style scoped>\n",
       "    .dataframe tbody tr th:only-of-type {\n",
       "        vertical-align: middle;\n",
       "    }\n",
       "\n",
       "    .dataframe tbody tr th {\n",
       "        vertical-align: top;\n",
       "    }\n",
       "\n",
       "    .dataframe thead th {\n",
       "        text-align: right;\n",
       "    }\n",
       "</style>\n",
       "<table border=\"1\" class=\"dataframe\">\n",
       "  <thead>\n",
       "    <tr style=\"text-align: right;\">\n",
       "      <th></th>\n",
       "      <th>month</th>\n",
       "      <th>year</th>\n",
       "      <th>sale</th>\n",
       "    </tr>\n",
       "  </thead>\n",
       "  <tbody>\n",
       "    <tr>\n",
       "      <th>0</th>\n",
       "      <td>1</td>\n",
       "      <td>2012</td>\n",
       "      <td>55</td>\n",
       "    </tr>\n",
       "    <tr>\n",
       "      <th>1</th>\n",
       "      <td>4</td>\n",
       "      <td>2014</td>\n",
       "      <td>40</td>\n",
       "    </tr>\n",
       "    <tr>\n",
       "      <th>2</th>\n",
       "      <td>7</td>\n",
       "      <td>2013</td>\n",
       "      <td>84</td>\n",
       "    </tr>\n",
       "    <tr>\n",
       "      <th>3</th>\n",
       "      <td>10</td>\n",
       "      <td>2014</td>\n",
       "      <td>31</td>\n",
       "    </tr>\n",
       "  </tbody>\n",
       "</table>\n",
       "</div>"
      ],
      "text/plain": [
       "   month  year  sale\n",
       "0      1  2012    55\n",
       "1      4  2014    40\n",
       "2      7  2013    84\n",
       "3     10  2014    31"
      ]
     },
     "execution_count": 28,
     "metadata": {},
     "output_type": "execute_result"
    }
   ],
   "source": [
    "df"
   ]
  },
  {
   "cell_type": "code",
   "execution_count": 31,
   "id": "0d5482a8-38e1-4c7e-8511-a7a39ba5f6e2",
   "metadata": {},
   "outputs": [
    {
     "data": {
      "text/html": [
       "<div>\n",
       "<style scoped>\n",
       "    .dataframe tbody tr th:only-of-type {\n",
       "        vertical-align: middle;\n",
       "    }\n",
       "\n",
       "    .dataframe tbody tr th {\n",
       "        vertical-align: top;\n",
       "    }\n",
       "\n",
       "    .dataframe thead th {\n",
       "        text-align: right;\n",
       "    }\n",
       "</style>\n",
       "<table border=\"1\" class=\"dataframe\">\n",
       "  <thead>\n",
       "    <tr style=\"text-align: right;\">\n",
       "      <th></th>\n",
       "      <th>year</th>\n",
       "      <th>sale</th>\n",
       "    </tr>\n",
       "    <tr>\n",
       "      <th>month</th>\n",
       "      <th></th>\n",
       "      <th></th>\n",
       "    </tr>\n",
       "  </thead>\n",
       "  <tbody>\n",
       "    <tr>\n",
       "      <th>1</th>\n",
       "      <td>2012</td>\n",
       "      <td>55</td>\n",
       "    </tr>\n",
       "    <tr>\n",
       "      <th>4</th>\n",
       "      <td>2014</td>\n",
       "      <td>40</td>\n",
       "    </tr>\n",
       "    <tr>\n",
       "      <th>7</th>\n",
       "      <td>2013</td>\n",
       "      <td>84</td>\n",
       "    </tr>\n",
       "    <tr>\n",
       "      <th>10</th>\n",
       "      <td>2014</td>\n",
       "      <td>31</td>\n",
       "    </tr>\n",
       "  </tbody>\n",
       "</table>\n",
       "</div>"
      ],
      "text/plain": [
       "       year  sale\n",
       "month            \n",
       "1      2012    55\n",
       "4      2014    40\n",
       "7      2013    84\n",
       "10     2014    31"
      ]
     },
     "execution_count": 31,
     "metadata": {},
     "output_type": "execute_result"
    }
   ],
   "source": [
    "# 以月份设置新的索引\n",
    "# drop：删除最开始的索引，默认就是True\n",
    "df.set_index(\"month\", drop=True)"
   ]
  },
  {
   "cell_type": "code",
   "execution_count": 35,
   "id": "3d37fe82-afac-4415-a280-bb4dcbfe60e1",
   "metadata": {},
   "outputs": [],
   "source": [
    "# 设置多个索引，以年和月份\n",
    "new_df = df.set_index([\"year\", \"month\"])"
   ]
  },
  {
   "cell_type": "code",
   "execution_count": 38,
   "id": "8ee3f5a1-d2d3-4576-bc45-19075a8d0b73",
   "metadata": {},
   "outputs": [
    {
     "data": {
      "text/html": [
       "<div>\n",
       "<style scoped>\n",
       "    .dataframe tbody tr th:only-of-type {\n",
       "        vertical-align: middle;\n",
       "    }\n",
       "\n",
       "    .dataframe tbody tr th {\n",
       "        vertical-align: top;\n",
       "    }\n",
       "\n",
       "    .dataframe thead th {\n",
       "        text-align: right;\n",
       "    }\n",
       "</style>\n",
       "<table border=\"1\" class=\"dataframe\">\n",
       "  <thead>\n",
       "    <tr style=\"text-align: right;\">\n",
       "      <th></th>\n",
       "      <th></th>\n",
       "      <th>sale</th>\n",
       "    </tr>\n",
       "    <tr>\n",
       "      <th>year</th>\n",
       "      <th>month</th>\n",
       "      <th></th>\n",
       "    </tr>\n",
       "  </thead>\n",
       "  <tbody>\n",
       "    <tr>\n",
       "      <th>2012</th>\n",
       "      <th>1</th>\n",
       "      <td>55</td>\n",
       "    </tr>\n",
       "    <tr>\n",
       "      <th>2014</th>\n",
       "      <th>4</th>\n",
       "      <td>40</td>\n",
       "    </tr>\n",
       "    <tr>\n",
       "      <th>2013</th>\n",
       "      <th>7</th>\n",
       "      <td>84</td>\n",
       "    </tr>\n",
       "    <tr>\n",
       "      <th>2014</th>\n",
       "      <th>10</th>\n",
       "      <td>31</td>\n",
       "    </tr>\n",
       "  </tbody>\n",
       "</table>\n",
       "</div>"
      ],
      "text/plain": [
       "            sale\n",
       "year month      \n",
       "2012 1        55\n",
       "2014 4        40\n",
       "2013 7        84\n",
       "2014 10       31"
      ]
     },
     "execution_count": 38,
     "metadata": {},
     "output_type": "execute_result"
    }
   ],
   "source": [
    "new_df"
   ]
  },
  {
   "cell_type": "code",
   "execution_count": 39,
   "id": "add2d65a-5365-46dd-8339-59a14663e2a9",
   "metadata": {},
   "outputs": [
    {
     "data": {
      "text/plain": [
       "MultiIndex([(2012,  1),\n",
       "            (2014,  4),\n",
       "            (2013,  7),\n",
       "            (2014, 10)],\n",
       "           names=['year', 'month'])"
      ]
     },
     "execution_count": 39,
     "metadata": {},
     "output_type": "execute_result"
    }
   ],
   "source": [
    "new_df.index"
   ]
  },
  {
   "cell_type": "code",
   "execution_count": 40,
   "id": "4687ad85-42bd-4fa9-a326-99e07d41941a",
   "metadata": {},
   "outputs": [
    {
     "data": {
      "text/plain": [
       "FrozenList(['year', 'month'])"
      ]
     },
     "execution_count": 40,
     "metadata": {},
     "output_type": "execute_result"
    }
   ],
   "source": [
    "new_df.index.names"
   ]
  },
  {
   "cell_type": "code",
   "execution_count": 41,
   "id": "2f4fe91b-31dc-4649-99f7-36f016c79eeb",
   "metadata": {},
   "outputs": [
    {
     "data": {
      "text/plain": [
       "FrozenList([[2012, 2013, 2014], [1, 4, 7, 10]])"
      ]
     },
     "execution_count": 41,
     "metadata": {},
     "output_type": "execute_result"
    }
   ],
   "source": [
    "new_df.index.levels"
   ]
  },
  {
   "cell_type": "code",
   "execution_count": 42,
   "id": "0a8b46a7-e673-4511-8072-77497c1a2464",
   "metadata": {},
   "outputs": [],
   "source": [
    "# 这种设置，可以让DataFrame就变成一个具有MultiIndex的DataFrame"
   ]
  },
  {
   "cell_type": "markdown",
   "id": "dc3a58e2-f9b4-41b0-98a3-3c0f43ab1691",
   "metadata": {},
   "source": [
    "## MultiIndex和Panel"
   ]
  },
  {
   "cell_type": "markdown",
   "id": "031a701d-e1c0-43ee-a8a9-8fdfda1291d5",
   "metadata": {
    "jp-MarkdownHeadingCollapsed": true
   },
   "source": [
    "### MultiIndex"
   ]
  },
  {
   "cell_type": "code",
   "execution_count": 44,
   "id": "b720e535-5ab4-48c3-a443-64292dfe1687",
   "metadata": {},
   "outputs": [
    {
     "data": {
      "text/plain": [
       "MultiIndex([(2012,  1),\n",
       "            (2014,  4),\n",
       "            (2013,  7),\n",
       "            (2014, 10)],\n",
       "           names=['year', 'month'])"
      ]
     },
     "execution_count": 44,
     "metadata": {},
     "output_type": "execute_result"
    }
   ],
   "source": [
    "new_df.index"
   ]
  },
  {
   "cell_type": "code",
   "execution_count": 45,
   "id": "0fc096bc-cea1-4dc4-97b4-6623fec73836",
   "metadata": {},
   "outputs": [
    {
     "data": {
      "text/plain": [
       "FrozenList(['year', 'month'])"
      ]
     },
     "execution_count": 45,
     "metadata": {},
     "output_type": "execute_result"
    }
   ],
   "source": [
    "new_df.index.names"
   ]
  },
  {
   "cell_type": "code",
   "execution_count": 46,
   "id": "b298c1ca-a10a-43d6-af5e-a74b0c7e1474",
   "metadata": {},
   "outputs": [
    {
     "data": {
      "text/plain": [
       "FrozenList([[2012, 2013, 2014], [1, 4, 7, 10]])"
      ]
     },
     "execution_count": 46,
     "metadata": {},
     "output_type": "execute_result"
    }
   ],
   "source": [
    "new_df.index.levels"
   ]
  },
  {
   "cell_type": "markdown",
   "id": "aa9852ec-8f5d-4e20-9b5c-f449e1935be9",
   "metadata": {},
   "source": [
    "### Panel"
   ]
  },
  {
   "cell_type": "code",
   "execution_count": 48,
   "id": "3cedeb95-0e86-46b1-b454-a792b36eef10",
   "metadata": {},
   "outputs": [
    {
     "ename": "AttributeError",
     "evalue": "module 'pandas' has no attribute 'xarray'",
     "output_type": "error",
     "traceback": [
      "\u001b[1;31m---------------------------------------------------------------------------\u001b[0m",
      "\u001b[1;31mAttributeError\u001b[0m                            Traceback (most recent call last)",
      "Cell \u001b[1;32mIn[48], line 1\u001b[0m\n\u001b[1;32m----> 1\u001b[0m p \u001b[38;5;241m=\u001b[39m \u001b[43mpd\u001b[49m\u001b[38;5;241;43m.\u001b[39;49m\u001b[43mxarray\u001b[49m(np\u001b[38;5;241m.\u001b[39marange(\u001b[38;5;241m24\u001b[39m)\u001b[38;5;241m.\u001b[39mreshape(\u001b[38;5;241m4\u001b[39m,\u001b[38;5;241m3\u001b[39m,\u001b[38;5;241m2\u001b[39m),\n\u001b[0;32m      2\u001b[0m                  items\u001b[38;5;241m=\u001b[39m\u001b[38;5;28mlist\u001b[39m(\u001b[38;5;124m'\u001b[39m\u001b[38;5;124mABCD\u001b[39m\u001b[38;5;124m'\u001b[39m),\n\u001b[0;32m      3\u001b[0m                  major_axis\u001b[38;5;241m=\u001b[39mpd\u001b[38;5;241m.\u001b[39mdate_range(\u001b[38;5;124m'\u001b[39m\u001b[38;5;124m20130101\u001b[39m\u001b[38;5;124m'\u001b[39m, periods\u001b[38;5;241m=\u001b[39m\u001b[38;5;241m3\u001b[39m),\n\u001b[0;32m      4\u001b[0m                  minor_axis\u001b[38;5;241m=\u001b[39m[\u001b[38;5;124m'\u001b[39m\u001b[38;5;124mfirst\u001b[39m\u001b[38;5;124m'\u001b[39m, \u001b[38;5;124m'\u001b[39m\u001b[38;5;124msecond\u001b[39m\u001b[38;5;124m'\u001b[39m])\n\u001b[0;32m      5\u001b[0m p\n",
      "\u001b[1;31mAttributeError\u001b[0m: module 'pandas' has no attribute 'xarray'"
     ]
    }
   ],
   "source": [
    "p = pd.xarray(np.arange(24).reshape(4,3,2),\n",
    "                 items=list('ABCD'),\n",
    "                 major_axis=pd.date_range('20130101', periods=3),\n",
    "                 minor_axis=['first', 'second'])\n",
    "p"
   ]
  },
  {
   "cell_type": "markdown",
   "id": "e368d5e9-6ea0-4713-9db4-2e50dc02e022",
   "metadata": {},
   "source": [
    "## Series"
   ]
  }
 ],
 "metadata": {
  "kernelspec": {
   "display_name": "Python 3 (ipykernel)",
   "language": "python",
   "name": "python3"
  },
  "language_info": {
   "codemirror_mode": {
    "name": "ipython",
    "version": 3
   },
   "file_extension": ".py",
   "mimetype": "text/x-python",
   "name": "python",
   "nbconvert_exporter": "python",
   "pygments_lexer": "ipython3",
   "version": "3.12.0"
  }
 },
 "nbformat": 4,
 "nbformat_minor": 5
}
