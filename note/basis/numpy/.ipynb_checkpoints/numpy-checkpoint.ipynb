{
 "cells": [
  {
   "cell_type": "markdown",
   "id": "ac5778c7-c01a-4932-9748-bfadbfd609ee",
   "metadata": {
    "jp-MarkdownHeadingCollapsed": true
   },
   "source": [
    "# numpy\n",
    "## numpy是一个高效的运算工具"
   ]
  },
  {
   "cell_type": "code",
   "execution_count": 1,
   "id": "67b0987b-b0de-4b10-80b8-f90b1de5854c",
   "metadata": {},
   "outputs": [],
   "source": [
    "import numpy as np\n",
    "score = np.array([[80, 89, 86, 67, 79],\n",
    "[78, 97, 89, 67, 81],\n",
    "[90, 94, 78, 67, 74],\n",
    "[91, 91, 90, 67, 69],\n",
    "[76, 87, 75, 67, 86],\n",
    "[70, 79, 84, 67, 84],\n",
    "[94, 92, 93, 67, 64],\n",
    "[86, 85, 83, 67, 80]])"
   ]
  },
  {
   "cell_type": "code",
   "execution_count": 2,
   "id": "003408d0-57e4-4464-be14-b7c8d126fbeb",
   "metadata": {},
   "outputs": [
    {
     "data": {
      "text/plain": [
       "numpy.ndarray"
      ]
     },
     "execution_count": 2,
     "metadata": {},
     "output_type": "execute_result"
    }
   ],
   "source": [
    "type(score)"
   ]
  },
  {
   "cell_type": "markdown",
   "id": "9cda5f19-4b24-45e6-97c5-1608210e50e7",
   "metadata": {
    "jp-MarkdownHeadingCollapsed": true
   },
   "source": [
    "### ndarray与Python原生list运算效率对比"
   ]
  },
  {
   "cell_type": "code",
   "execution_count": 3,
   "id": "6bd16d30-ace9-49c3-aa61-50748afb00e9",
   "metadata": {},
   "outputs": [],
   "source": [
    "import random\n",
    "import time\n",
    "# 生成一个大数组\n",
    "python_list = []\n",
    "\n",
    "for i in range(100000000):\n",
    "    python_list.append(random.random())\n",
    "    \n",
    "ndarray_list = np.array(python_list)"
   ]
  },
  {
   "cell_type": "code",
   "execution_count": 4,
   "id": "9e90a0e5-1fe1-446e-821f-fc8c409ff391",
   "metadata": {},
   "outputs": [
    {
     "data": {
      "text/plain": [
       "100000000"
      ]
     },
     "execution_count": 4,
     "metadata": {},
     "output_type": "execute_result"
    }
   ],
   "source": [
    "len(ndarray_list)"
   ]
  },
  {
   "cell_type": "code",
   "execution_count": 5,
   "id": "21dc237f-7ac8-4bcb-b1b2-df467fa04057",
   "metadata": {},
   "outputs": [],
   "source": [
    "# 原生pythonlist求和\n",
    "t1 = time.time()\n",
    "a = sum(python_list)\n",
    "t2 = time.time()\n",
    "d1 = t2 - t1\n",
    "\n",
    "# ndarray求和\n",
    "t3 = time.time()\n",
    "b = np.sum(ndarray_list)\n",
    "t4 = time.time()\n",
    "d2 = t4 - t3"
   ]
  },
  {
   "cell_type": "code",
   "execution_count": 6,
   "id": "ceaf0a55-eef1-4b0d-a47c-dfafe120d657",
   "metadata": {},
   "outputs": [
    {
     "data": {
      "text/plain": [
       "0.5873796939849854"
      ]
     },
     "execution_count": 6,
     "metadata": {},
     "output_type": "execute_result"
    }
   ],
   "source": [
    "d1"
   ]
  },
  {
   "cell_type": "code",
   "execution_count": 7,
   "id": "85219226-5527-4f7e-b4c3-653f8814c9dc",
   "metadata": {},
   "outputs": [
    {
     "data": {
      "text/plain": [
       "0.11421012878417969"
      ]
     },
     "execution_count": 7,
     "metadata": {},
     "output_type": "execute_result"
    }
   ],
   "source": [
    "d2"
   ]
  },
  {
   "cell_type": "code",
   "execution_count": 8,
   "id": "34c837c0-398f-4285-a580-062a0e7ba01e",
   "metadata": {},
   "outputs": [],
   "source": [
    "# 存储风格：\n",
    "# ndarray —— 相同类型 —— 通用性不强\n",
    "# list —— 不同类型 —— 通用性高\n",
    "# 并行化运算\n",
    "# 支持并行化运算（向量化运算）\n",
    "# 底层语言\n",
    "# 底层语言是C语言实现的，内部解除了GIL（全局解释器锁），其对数组的操作速度不受python解释器的影响，效率远远高于python代码"
   ]
  },
  {
   "cell_type": "markdown",
   "id": "7425a9a9-a6f1-4279-bfee-d97d05cfd61c",
   "metadata": {
    "jp-MarkdownHeadingCollapsed": true
   },
   "source": [
    "### ndarray的属性"
   ]
  },
  {
   "cell_type": "code",
   "execution_count": 9,
   "id": "0352108e-8cee-4d9c-9154-a26e7138e77e",
   "metadata": {},
   "outputs": [
    {
     "data": {
      "text/plain": [
       "array([[80, 89, 86, 67, 79],\n",
       "       [78, 97, 89, 67, 81],\n",
       "       [90, 94, 78, 67, 74],\n",
       "       [91, 91, 90, 67, 69],\n",
       "       [76, 87, 75, 67, 86],\n",
       "       [70, 79, 84, 67, 84],\n",
       "       [94, 92, 93, 67, 64],\n",
       "       [86, 85, 83, 67, 80]])"
      ]
     },
     "execution_count": 9,
     "metadata": {},
     "output_type": "execute_result"
    }
   ],
   "source": [
    "score"
   ]
  },
  {
   "cell_type": "code",
   "execution_count": 10,
   "id": "d1a040d2-c978-4160-ba10-b59751922bc2",
   "metadata": {},
   "outputs": [
    {
     "data": {
      "text/plain": [
       "(8, 5)"
      ]
     },
     "execution_count": 10,
     "metadata": {},
     "output_type": "execute_result"
    }
   ],
   "source": [
    "# 形状\n",
    "score.shape # (8, 5)"
   ]
  },
  {
   "cell_type": "code",
   "execution_count": 11,
   "id": "a22944c1-8cd6-4aa8-97ee-f98e2f6734f9",
   "metadata": {},
   "outputs": [
    {
     "data": {
      "text/plain": [
       "2"
      ]
     },
     "execution_count": 11,
     "metadata": {},
     "output_type": "execute_result"
    }
   ],
   "source": [
    "# 维度\n",
    "score.ndim"
   ]
  },
  {
   "cell_type": "code",
   "execution_count": 12,
   "id": "9dcb1e56-92d8-4d25-8090-a99c88a4d4f1",
   "metadata": {},
   "outputs": [
    {
     "data": {
      "text/plain": [
       "40"
      ]
     },
     "execution_count": 12,
     "metadata": {},
     "output_type": "execute_result"
    }
   ],
   "source": [
    "# 元素个数\n",
    "score.size"
   ]
  },
  {
   "cell_type": "code",
   "execution_count": 13,
   "id": "53a53408-866f-4056-9b87-554b66b37fea",
   "metadata": {},
   "outputs": [
    {
     "data": {
      "text/plain": [
       "dtype('int32')"
      ]
     },
     "execution_count": 13,
     "metadata": {},
     "output_type": "execute_result"
    }
   ],
   "source": [
    "# 类型整数默认为int32\n",
    "score.dtype "
   ]
  },
  {
   "cell_type": "code",
   "execution_count": 14,
   "id": "66de5085-c522-4aea-abc0-11ce91981c3e",
   "metadata": {},
   "outputs": [
    {
     "data": {
      "text/plain": [
       "4"
      ]
     },
     "execution_count": 14,
     "metadata": {},
     "output_type": "execute_result"
    }
   ],
   "source": [
    "# 一个元素所占的大小\n",
    "score.itemsize"
   ]
  },
  {
   "cell_type": "markdown",
   "id": "8ae5ed6f-281a-48f5-b3cb-4473e2508afd",
   "metadata": {
    "jp-MarkdownHeadingCollapsed": true
   },
   "source": [
    "#### ndarray的形状"
   ]
  },
  {
   "cell_type": "code",
   "execution_count": 15,
   "id": "891006da-a9ec-4220-9e39-a6e296342c3f",
   "metadata": {},
   "outputs": [],
   "source": [
    "a = np.array([[1,2,3],[4,5,6]])\n",
    "b = np.array([1,2,3,4])\n",
    "c = np.array([[[1,2,3],[4,5,6]],[[1,2,3],[4,5,6]]])"
   ]
  },
  {
   "cell_type": "code",
   "execution_count": 16,
   "id": "f78c4aa1-5a59-4d8f-b257-fdcae2ced4e9",
   "metadata": {},
   "outputs": [
    {
     "data": {
      "text/plain": [
       "array([[1, 2, 3],\n",
       "       [4, 5, 6]])"
      ]
     },
     "execution_count": 16,
     "metadata": {},
     "output_type": "execute_result"
    }
   ],
   "source": [
    "a # (2, 3)"
   ]
  },
  {
   "cell_type": "code",
   "execution_count": 17,
   "id": "c0ed7dea-6221-401f-a1ba-a9ac8afded64",
   "metadata": {},
   "outputs": [
    {
     "data": {
      "text/plain": [
       "array([1, 2, 3, 4])"
      ]
     },
     "execution_count": 17,
     "metadata": {},
     "output_type": "execute_result"
    }
   ],
   "source": [
    "b # (4,)"
   ]
  },
  {
   "cell_type": "code",
   "execution_count": 18,
   "id": "c751e121-01ea-435e-b224-633e8f52f719",
   "metadata": {},
   "outputs": [
    {
     "data": {
      "text/plain": [
       "array([[[1, 2, 3],\n",
       "        [4, 5, 6]],\n",
       "\n",
       "       [[1, 2, 3],\n",
       "        [4, 5, 6]]])"
      ]
     },
     "execution_count": 18,
     "metadata": {},
     "output_type": "execute_result"
    }
   ],
   "source": [
    "c # (2, 2, 3)"
   ]
  },
  {
   "cell_type": "code",
   "execution_count": 19,
   "id": "71222876-9c3d-49ef-a741-5e279d63deb8",
   "metadata": {},
   "outputs": [
    {
     "data": {
      "text/plain": [
       "(2, 3)"
      ]
     },
     "execution_count": 19,
     "metadata": {},
     "output_type": "execute_result"
    }
   ],
   "source": [
    "a.shape"
   ]
  },
  {
   "cell_type": "code",
   "execution_count": 20,
   "id": "3eae65a9-5458-4d6e-8cf1-79064dc33c24",
   "metadata": {},
   "outputs": [
    {
     "data": {
      "text/plain": [
       "(4,)"
      ]
     },
     "execution_count": 20,
     "metadata": {},
     "output_type": "execute_result"
    }
   ],
   "source": [
    "b.shape"
   ]
  },
  {
   "cell_type": "code",
   "execution_count": 21,
   "id": "1230e1b7-d458-4fa3-9a59-d10612bb8ef3",
   "metadata": {},
   "outputs": [
    {
     "data": {
      "text/plain": [
       "(2, 2, 3)"
      ]
     },
     "execution_count": 21,
     "metadata": {},
     "output_type": "execute_result"
    }
   ],
   "source": [
    "c.shape"
   ]
  },
  {
   "cell_type": "markdown",
   "id": "782b913d-773c-4ca3-8096-33f8603fa8e6",
   "metadata": {
    "jp-MarkdownHeadingCollapsed": true
   },
   "source": [
    "#### ndarray的类型"
   ]
  },
  {
   "cell_type": "code",
   "execution_count": 22,
   "id": "46e75875-4d12-44b2-8970-2221b056de01",
   "metadata": {},
   "outputs": [],
   "source": [
    "data = np.array([1.1, 2.2, 3.3])"
   ]
  },
  {
   "cell_type": "code",
   "execution_count": 23,
   "id": "f230dfda-e156-459c-a6db-40fb5a5a039e",
   "metadata": {},
   "outputs": [
    {
     "data": {
      "text/plain": [
       "array([1.1, 2.2, 3.3])"
      ]
     },
     "execution_count": 23,
     "metadata": {},
     "output_type": "execute_result"
    }
   ],
   "source": [
    "data"
   ]
  },
  {
   "cell_type": "code",
   "execution_count": 24,
   "id": "f75aaaf8-28be-43cf-a011-8b86f65e3f5c",
   "metadata": {},
   "outputs": [
    {
     "data": {
      "text/plain": [
       "dtype('float64')"
      ]
     },
     "execution_count": 24,
     "metadata": {},
     "output_type": "execute_result"
    }
   ],
   "source": [
    "data.dtype"
   ]
  },
  {
   "cell_type": "code",
   "execution_count": 25,
   "id": "3ee675ce-ff9d-4282-ac92-71fa5c01d664",
   "metadata": {},
   "outputs": [
    {
     "data": {
      "text/plain": [
       "array([1.1, 2.2, 3.3], dtype=float32)"
      ]
     },
     "execution_count": 25,
     "metadata": {},
     "output_type": "execute_result"
    }
   ],
   "source": [
    "# 创建数组的时候指定类型\n",
    "np.array([1.1, 2.2, 3.3], dtype=\"float32\")"
   ]
  },
  {
   "cell_type": "code",
   "execution_count": 26,
   "id": "c365d113-133e-473e-93c7-3f03cb09fc48",
   "metadata": {},
   "outputs": [
    {
     "data": {
      "text/plain": [
       "array([1.1, 2.2, 3.3], dtype=float32)"
      ]
     },
     "execution_count": 26,
     "metadata": {},
     "output_type": "execute_result"
    }
   ],
   "source": [
    "np.array([1.1, 2.2, 3.3], dtype=np.float32)"
   ]
  },
  {
   "cell_type": "markdown",
   "id": "b66ebe2f-d23b-4c56-b08b-fd7f6c290fe8",
   "metadata": {
    "jp-MarkdownHeadingCollapsed": true
   },
   "source": [
    "### 生成数组的方法"
   ]
  },
  {
   "cell_type": "code",
   "execution_count": 27,
   "id": "dca73c27-970d-4629-9228-b55ab7c6753f",
   "metadata": {},
   "outputs": [
    {
     "data": {
      "text/plain": [
       "array([[0., 0., 0., 0.],\n",
       "       [0., 0., 0., 0.],\n",
       "       [0., 0., 0., 0.]], dtype=float32)"
      ]
     },
     "execution_count": 27,
     "metadata": {},
     "output_type": "execute_result"
    }
   ],
   "source": [
    "# 1 生成0和1的数组\n",
    "np.zeros(shape=(3, 4), dtype=\"float32\")"
   ]
  },
  {
   "cell_type": "code",
   "execution_count": 28,
   "id": "94ab1f4e-7e8d-4862-bf0f-e13efc4dcfbe",
   "metadata": {},
   "outputs": [
    {
     "data": {
      "text/plain": [
       "array([[1, 1, 1],\n",
       "       [1, 1, 1]])"
      ]
     },
     "execution_count": 28,
     "metadata": {},
     "output_type": "execute_result"
    }
   ],
   "source": [
    "np.ones(shape=[2, 3], dtype=np.int32)"
   ]
  },
  {
   "cell_type": "markdown",
   "id": "b03299b2-4429-44c4-b32b-d02c52272bf3",
   "metadata": {
    "jp-MarkdownHeadingCollapsed": true
   },
   "source": [
    "#### 从现有数组生成"
   ]
  },
  {
   "cell_type": "code",
   "execution_count": 29,
   "id": "66fc7aeb-43bb-45cb-916e-26c588095ae6",
   "metadata": {},
   "outputs": [],
   "source": [
    "score = np.array([[80, 89, 86, 67, 79],\n",
    "[78, 97, 89, 67, 81],\n",
    "[90, 94, 78, 67, 74],\n",
    "[91, 91, 90, 67, 69],\n",
    "[76, 87, 75, 67, 86],\n",
    "[70, 79, 84, 67, 84],\n",
    "[94, 92, 93, 67, 64],\n",
    "[86, 85, 83, 67, 80]])"
   ]
  },
  {
   "cell_type": "code",
   "execution_count": 30,
   "id": "7ac3abfa-f148-4735-bd0d-9f3813a13827",
   "metadata": {},
   "outputs": [],
   "source": [
    "# np.array()\n",
    "data1 = np.array(score)"
   ]
  },
  {
   "cell_type": "code",
   "execution_count": 31,
   "id": "ba7944bb-99a1-4dbc-b17d-6f24b875762d",
   "metadata": {},
   "outputs": [
    {
     "data": {
      "text/plain": [
       "array([[80, 89, 86, 67, 79],\n",
       "       [78, 97, 89, 67, 81],\n",
       "       [90, 94, 78, 67, 74],\n",
       "       [91, 91, 90, 67, 69],\n",
       "       [76, 87, 75, 67, 86],\n",
       "       [70, 79, 84, 67, 84],\n",
       "       [94, 92, 93, 67, 64],\n",
       "       [86, 85, 83, 67, 80]])"
      ]
     },
     "execution_count": 31,
     "metadata": {},
     "output_type": "execute_result"
    }
   ],
   "source": [
    "data1"
   ]
  },
  {
   "cell_type": "code",
   "execution_count": 32,
   "id": "d634498d-6406-4a10-94f4-cf9e3cc50539",
   "metadata": {},
   "outputs": [],
   "source": [
    "# np.asarray()\n",
    "data2 = np.asarray(score)"
   ]
  },
  {
   "cell_type": "code",
   "execution_count": 33,
   "id": "db77d6e9-3664-44af-be47-fb7636e5f531",
   "metadata": {},
   "outputs": [
    {
     "data": {
      "text/plain": [
       "array([[80, 89, 86, 67, 79],\n",
       "       [78, 97, 89, 67, 81],\n",
       "       [90, 94, 78, 67, 74],\n",
       "       [91, 91, 90, 67, 69],\n",
       "       [76, 87, 75, 67, 86],\n",
       "       [70, 79, 84, 67, 84],\n",
       "       [94, 92, 93, 67, 64],\n",
       "       [86, 85, 83, 67, 80]])"
      ]
     },
     "execution_count": 33,
     "metadata": {},
     "output_type": "execute_result"
    }
   ],
   "source": [
    "data2"
   ]
  },
  {
   "cell_type": "code",
   "execution_count": 34,
   "id": "429bb815-7d8b-4a7f-bd92-47a9eaf7de20",
   "metadata": {},
   "outputs": [],
   "source": [
    "# np.copy()\n",
    "data3 = np.copy(score)"
   ]
  },
  {
   "cell_type": "code",
   "execution_count": 35,
   "id": "f0fee5fb-3bdc-4195-bbf4-380e820b8c07",
   "metadata": {},
   "outputs": [
    {
     "data": {
      "text/plain": [
       "array([[80, 89, 86, 67, 79],\n",
       "       [78, 97, 89, 67, 81],\n",
       "       [90, 94, 78, 67, 74],\n",
       "       [91, 91, 90, 67, 69],\n",
       "       [76, 87, 75, 67, 86],\n",
       "       [70, 79, 84, 67, 84],\n",
       "       [94, 92, 93, 67, 64],\n",
       "       [86, 85, 83, 67, 80]])"
      ]
     },
     "execution_count": 35,
     "metadata": {},
     "output_type": "execute_result"
    }
   ],
   "source": [
    "data3"
   ]
  },
  {
   "cell_type": "code",
   "execution_count": 36,
   "id": "7cb715b0-5752-4e74-9f2c-fe42a4d1c491",
   "metadata": {},
   "outputs": [
    {
     "data": {
      "text/plain": [
       "array([[80, 89, 86, 67, 79],\n",
       "       [78, 97, 89, 67, 81],\n",
       "       [90, 94, 78, 67, 74],\n",
       "       [91, 91, 90, 67, 69],\n",
       "       [76, 87, 75, 67, 86],\n",
       "       [70, 79, 84, 67, 84],\n",
       "       [94, 92, 93, 67, 64],\n",
       "       [86, 85, 83, 67, 80]])"
      ]
     },
     "execution_count": 36,
     "metadata": {},
     "output_type": "execute_result"
    }
   ],
   "source": [
    "data1"
   ]
  },
  {
   "cell_type": "code",
   "execution_count": 37,
   "id": "75293595-180d-4aab-a07c-79b0b1c102d2",
   "metadata": {},
   "outputs": [],
   "source": [
    "score[3,1]=10000"
   ]
  },
  {
   "cell_type": "code",
   "execution_count": 38,
   "id": "81f59192-c9e8-4587-aa23-0aec8afee637",
   "metadata": {},
   "outputs": [
    {
     "data": {
      "text/plain": [
       "array([[80, 89, 86, 67, 79],\n",
       "       [78, 97, 89, 67, 81],\n",
       "       [90, 94, 78, 67, 74],\n",
       "       [91, 91, 90, 67, 69],\n",
       "       [76, 87, 75, 67, 86],\n",
       "       [70, 79, 84, 67, 84],\n",
       "       [94, 92, 93, 67, 64],\n",
       "       [86, 85, 83, 67, 80]])"
      ]
     },
     "execution_count": 38,
     "metadata": {},
     "output_type": "execute_result"
    }
   ],
   "source": [
    "# 深拷贝\n",
    "data1"
   ]
  },
  {
   "cell_type": "code",
   "execution_count": 39,
   "id": "ababb905-3c27-4b2c-bc24-9a31190e6dd6",
   "metadata": {},
   "outputs": [
    {
     "data": {
      "text/plain": [
       "array([[   80,    89,    86,    67,    79],\n",
       "       [   78,    97,    89,    67,    81],\n",
       "       [   90,    94,    78,    67,    74],\n",
       "       [   91, 10000,    90,    67,    69],\n",
       "       [   76,    87,    75,    67,    86],\n",
       "       [   70,    79,    84,    67,    84],\n",
       "       [   94,    92,    93,    67,    64],\n",
       "       [   86,    85,    83,    67,    80]])"
      ]
     },
     "execution_count": 39,
     "metadata": {},
     "output_type": "execute_result"
    }
   ],
   "source": [
    "# 浅拷贝\n",
    "data2"
   ]
  },
  {
   "cell_type": "code",
   "execution_count": 40,
   "id": "5384eb22-d5ca-4571-883d-32b5af8eae0c",
   "metadata": {},
   "outputs": [
    {
     "data": {
      "text/plain": [
       "array([[80, 89, 86, 67, 79],\n",
       "       [78, 97, 89, 67, 81],\n",
       "       [90, 94, 78, 67, 74],\n",
       "       [91, 91, 90, 67, 69],\n",
       "       [76, 87, 75, 67, 86],\n",
       "       [70, 79, 84, 67, 84],\n",
       "       [94, 92, 93, 67, 64],\n",
       "       [86, 85, 83, 67, 80]])"
      ]
     },
     "execution_count": 40,
     "metadata": {},
     "output_type": "execute_result"
    }
   ],
   "source": [
    "# 深拷贝\n",
    "data3"
   ]
  },
  {
   "cell_type": "markdown",
   "id": "cba26e33-a078-40f7-8c1e-aea60cafe961",
   "metadata": {
    "jp-MarkdownHeadingCollapsed": true
   },
   "source": [
    "#### 生成固定范围的数组"
   ]
  },
  {
   "cell_type": "code",
   "execution_count": 41,
   "id": "5a536d02-3196-4d77-ae22-f6f9a3202c02",
   "metadata": {},
   "outputs": [
    {
     "data": {
      "text/plain": [
       "array([ 0. ,  2.5,  5. ,  7.5, 10. ])"
      ]
     },
     "execution_count": 41,
     "metadata": {},
     "output_type": "execute_result"
    }
   ],
   "source": [
    "# 左闭右闭\n",
    "np.linspace(0, 10, 5)"
   ]
  },
  {
   "cell_type": "code",
   "execution_count": 42,
   "id": "3db264cd-53e4-485c-b34d-18fe2e738ea9",
   "metadata": {},
   "outputs": [
    {
     "data": {
      "text/plain": [
       "array([0, 5])"
      ]
     },
     "execution_count": 42,
     "metadata": {},
     "output_type": "execute_result"
    }
   ],
   "source": [
    "# 左闭右开\n",
    "np.arange(0, 10, 5)"
   ]
  },
  {
   "cell_type": "markdown",
   "id": "f94fec41-12ef-4439-b5b5-04639987d289",
   "metadata": {
    "jp-MarkdownHeadingCollapsed": true
   },
   "source": [
    "#### 生成随机数组"
   ]
  },
  {
   "cell_type": "code",
   "execution_count": 43,
   "id": "92b549b8-2d1e-4424-95a6-dd233244a8bd",
   "metadata": {},
   "outputs": [],
   "source": [
    "data1 = np.random.uniform(low=-1, high=1, size=1000000)"
   ]
  },
  {
   "cell_type": "code",
   "execution_count": 44,
   "id": "a1dd4422-443e-44ca-a669-846aec2d0ab3",
   "metadata": {},
   "outputs": [
    {
     "data": {
      "text/plain": [
       "array([-0.33153048,  0.16952746,  0.04963524, ..., -0.6084756 ,\n",
       "        0.41919038,  0.65998428])"
      ]
     },
     "execution_count": 44,
     "metadata": {},
     "output_type": "execute_result"
    }
   ],
   "source": [
    "data1"
   ]
  },
  {
   "cell_type": "code",
   "execution_count": 45,
   "id": "46a42dd0-649c-4d29-b4e0-7c58d18b5f18",
   "metadata": {},
   "outputs": [],
   "source": [
    "import matplotlib.pyplot as plt"
   ]
  },
  {
   "cell_type": "code",
   "execution_count": 46,
   "id": "378762e1-28b6-4a64-8b23-f289ae5aa313",
   "metadata": {},
   "outputs": [
    {
     "data": {
      "image/png": "[encoded data removed]",
      "text/plain": [
       "<Figure size 1600x640 with 1 Axes>"
      ]
     },
     "metadata": {},
     "output_type": "display_data"
    }
   ],
   "source": [
    "# 1、创建画布\n",
    "plt.figure(figsize=(20, 8), dpi=80)\n",
    "\n",
    "# 2、绘制直方图\n",
    "plt.hist(data1, 1000)\n",
    "\n",
    "# 3、显示图像\n",
    "plt.show()"
   ]
  },
  {
   "cell_type": "code",
   "execution_count": 47,
   "id": "23e89ebb-7e1c-4d59-9c6a-c35d384bfc7d",
   "metadata": {},
   "outputs": [],
   "source": [
    "# 正态分布\n",
    "data2 = np.random.normal(loc=1.75, scale=0.1, size=1000000)"
   ]
  },
  {
   "cell_type": "markdown",
   "id": "9b06f464-bbc6-4563-87b0-b40d3558f018",
   "metadata": {},
   "source": [
    "这是正态分布的公式$$f(x)=\\frac{1}{\\sigma \\sqrt{2\\pi}}e^{-\\frac{(x-\\mu)^{2}}{2\\sigma ^{2}}}$$\n",
    "方差：\n",
    "$$s^{2}=\\frac{1}{n} \\sum _{i=1}^{n}(x_{i}-M)^{2}$$\n",
    "标准差：\n",
    "$$\\sigma=\\sqrt{\\frac{1}{N} \\sum _{i=1}^{N}(x_{i}-\\mu)^{2}}$$"
   ]
  },
  {
   "cell_type": "code",
   "execution_count": 48,
   "id": "c2807278-8c1a-4863-bfee-b56ac72cda2a",
   "metadata": {},
   "outputs": [
    {
     "data": {
      "text/plain": [
       "array([1.74285347, 1.72789951, 1.70967778, ..., 1.64437242, 1.76273886,\n",
       "       1.79159381])"
      ]
     },
     "execution_count": 48,
     "metadata": {},
     "output_type": "execute_result"
    }
   ],
   "source": [
    "data2"
   ]
  },
  {
   "cell_type": "code",
   "execution_count": 49,
   "id": "1a470bd9-b442-4b56-96e9-77f228ad34a8",
   "metadata": {},
   "outputs": [
    {
     "data": {
      "image/png": "[encoded data removed]",
      "text/plain": [
       "<Figure size 1600x640 with 1 Axes>"
      ]
     },
     "metadata": {},
     "output_type": "display_data"
    }
   ],
   "source": [
    "# 1、创建画布\n",
    "plt.figure(figsize=(20, 8), dpi=80)\n",
    "\n",
    "# 2、绘制直方图\n",
    "plt.hist(data2, 1000)\n",
    "\n",
    "# 3、显示图像\n",
    "plt.show()"
   ]
  },
  {
   "cell_type": "markdown",
   "id": "8a00b091-e54a-4e9f-a4b6-a0e1dd03f5a4",
   "metadata": {
    "jp-MarkdownHeadingCollapsed": true
   },
   "source": [
    "### 案例：随机生成8只股票2周的交易日涨幅数据"
   ]
  },
  {
   "cell_type": "code",
   "execution_count": 50,
   "id": "190d4e2d-be74-4860-8a46-0f8c0f818731",
   "metadata": {},
   "outputs": [],
   "source": [
    "stock_change = np.random.normal(loc=0, scale=1, size=(8, 10))"
   ]
  },
  {
   "cell_type": "code",
   "execution_count": 51,
   "id": "04823be4-ff28-4676-bef4-c710554dfef1",
   "metadata": {},
   "outputs": [
    {
     "data": {
      "text/plain": [
       "array([[ 0.10560625,  0.00434597, -1.05309266, -0.06301503, -0.18022793,\n",
       "        -0.60524962, -1.38382056, -0.78824009,  0.21014195, -0.04363117],\n",
       "       [-1.28722514,  0.82664775,  0.43600724,  0.92704116,  0.21249706,\n",
       "        -1.49305274, -0.93499302,  1.05134855,  2.0325083 , -1.00838943],\n",
       "       [ 1.20911196, -1.72669586,  0.76993668, -0.13022396,  0.33032858,\n",
       "         0.1477271 , -0.69955863,  0.30664689,  0.01564304, -2.48095838],\n",
       "       [ 0.115297  ,  0.48452532,  1.132685  , -0.54609177, -0.96081991,\n",
       "        -0.29051016, -0.61586595,  0.87648744,  0.3839949 ,  0.5392723 ],\n",
       "       [-1.62965614,  0.26460878, -0.23499658,  0.31923647,  2.09765447,\n",
       "        -0.22026848, -0.4784167 , -0.76620889, -1.0955405 ,  0.35227546],\n",
       "       [-0.22158537, -0.02157352,  0.14344153,  0.40809052, -0.91718462,\n",
       "        -0.11204602, -1.4620835 ,  0.74208671,  0.73127219, -0.18386141],\n",
       "       [-1.22239886,  0.94467735,  0.67847507,  1.18921636, -1.1971234 ,\n",
       "        -0.22029549,  0.25175526, -0.40415833, -0.14356217, -0.28056664],\n",
       "       [ 0.49041642,  0.3800413 ,  2.14937861, -0.06988328, -0.10150531,\n",
       "         1.26709295,  0.97487325, -0.10839531, -1.53106032,  0.19097801]])"
      ]
     },
     "execution_count": 51,
     "metadata": {},
     "output_type": "execute_result"
    }
   ],
   "source": [
    "stock_change"
   ]
  },
  {
   "cell_type": "code",
   "execution_count": 52,
   "id": "efc4b1cf-2fcd-4f14-a8d2-64f1186bf168",
   "metadata": {},
   "outputs": [
    {
     "data": {
      "text/plain": [
       "array([ 0.10560625,  0.00434597, -1.05309266])"
      ]
     },
     "execution_count": 52,
     "metadata": {},
     "output_type": "execute_result"
    }
   ],
   "source": [
    "# 获取第一个股票的前3个交易日的涨跌幅数据\n",
    "stock_change[0, :3]"
   ]
  },
  {
   "cell_type": "code",
   "execution_count": 53,
   "id": "243f6600-7358-488e-93ba-c4eb96680815",
   "metadata": {},
   "outputs": [],
   "source": [
    "a1 = np.array([ [[1,2,3],[4,5,6]], [[12,3,34],[5,6,7]]])"
   ]
  },
  {
   "cell_type": "code",
   "execution_count": 54,
   "id": "282465ed-5984-4198-899a-eca1c1d18298",
   "metadata": {},
   "outputs": [
    {
     "data": {
      "text/plain": [
       "array([[[ 1,  2,  3],\n",
       "        [ 4,  5,  6]],\n",
       "\n",
       "       [[12,  3, 34],\n",
       "        [ 5,  6,  7]]])"
      ]
     },
     "execution_count": 54,
     "metadata": {},
     "output_type": "execute_result"
    }
   ],
   "source": [
    "a1 # (2, 2, 3)"
   ]
  },
  {
   "cell_type": "code",
   "execution_count": 55,
   "id": "23f0fb1d-0318-45b6-ae37-c9cbe51ab66e",
   "metadata": {},
   "outputs": [
    {
     "data": {
      "text/plain": [
       "(2, 2, 3)"
      ]
     },
     "execution_count": 55,
     "metadata": {},
     "output_type": "execute_result"
    }
   ],
   "source": [
    "a1.shape"
   ]
  },
  {
   "cell_type": "code",
   "execution_count": 56,
   "id": "aea0ef29-9aa4-461c-9f0e-04a166ce7c3b",
   "metadata": {},
   "outputs": [],
   "source": [
    "a1[1, 0, 2] = 100000"
   ]
  },
  {
   "cell_type": "code",
   "execution_count": 57,
   "id": "b49ce7fe-16bd-4210-bb08-360f3b257050",
   "metadata": {},
   "outputs": [
    {
     "data": {
      "text/plain": [
       "array([[[     1,      2,      3],\n",
       "        [     4,      5,      6]],\n",
       "\n",
       "       [[    12,      3, 100000],\n",
       "        [     5,      6,      7]]])"
      ]
     },
     "execution_count": 57,
     "metadata": {},
     "output_type": "execute_result"
    }
   ],
   "source": [
    "a1"
   ]
  },
  {
   "cell_type": "markdown",
   "id": "82ae3b20-45f0-46f5-ae04-bc604188a325",
   "metadata": {
    "jp-MarkdownHeadingCollapsed": true
   },
   "source": [
    "### 数组的操作"
   ]
  },
  {
   "cell_type": "markdown",
   "id": "c0b4581b-5076-4576-80fa-02e5cf64d604",
   "metadata": {
    "jp-MarkdownHeadingCollapsed": true
   },
   "source": [
    "#### 形状修改"
   ]
  },
  {
   "cell_type": "code",
   "execution_count": 58,
   "id": "91b0b68d-8f3d-4fc7-9ae4-11bffebb4f0b",
   "metadata": {},
   "outputs": [
    {
     "data": {
      "text/plain": [
       "array([[ 0.10560625,  0.00434597, -1.05309266, -0.06301503, -0.18022793,\n",
       "        -0.60524962, -1.38382056, -0.78824009,  0.21014195, -0.04363117],\n",
       "       [-1.28722514,  0.82664775,  0.43600724,  0.92704116,  0.21249706,\n",
       "        -1.49305274, -0.93499302,  1.05134855,  2.0325083 , -1.00838943],\n",
       "       [ 1.20911196, -1.72669586,  0.76993668, -0.13022396,  0.33032858,\n",
       "         0.1477271 , -0.69955863,  0.30664689,  0.01564304, -2.48095838],\n",
       "       [ 0.115297  ,  0.48452532,  1.132685  , -0.54609177, -0.96081991,\n",
       "        -0.29051016, -0.61586595,  0.87648744,  0.3839949 ,  0.5392723 ],\n",
       "       [-1.62965614,  0.26460878, -0.23499658,  0.31923647,  2.09765447,\n",
       "        -0.22026848, -0.4784167 , -0.76620889, -1.0955405 ,  0.35227546],\n",
       "       [-0.22158537, -0.02157352,  0.14344153,  0.40809052, -0.91718462,\n",
       "        -0.11204602, -1.4620835 ,  0.74208671,  0.73127219, -0.18386141],\n",
       "       [-1.22239886,  0.94467735,  0.67847507,  1.18921636, -1.1971234 ,\n",
       "        -0.22029549,  0.25175526, -0.40415833, -0.14356217, -0.28056664],\n",
       "       [ 0.49041642,  0.3800413 ,  2.14937861, -0.06988328, -0.10150531,\n",
       "         1.26709295,  0.97487325, -0.10839531, -1.53106032,  0.19097801]])"
      ]
     },
     "execution_count": 58,
     "metadata": {},
     "output_type": "execute_result"
    }
   ],
   "source": [
    "# 需求：让刚才的股票行、日期列反过来，变成日期行，股票列\n",
    "stock_change"
   ]
  },
  {
   "cell_type": "code",
   "execution_count": 59,
   "id": "0bd6c40e-3f80-4a56-8db9-9ec696ec4326",
   "metadata": {},
   "outputs": [
    {
     "data": {
      "text/plain": [
       "array([[ 0.10560625,  0.00434597, -1.05309266, -0.06301503, -0.18022793,\n",
       "        -0.60524962, -1.38382056, -0.78824009],\n",
       "       [ 0.21014195, -0.04363117, -1.28722514,  0.82664775,  0.43600724,\n",
       "         0.92704116,  0.21249706, -1.49305274],\n",
       "       [-0.93499302,  1.05134855,  2.0325083 , -1.00838943,  1.20911196,\n",
       "        -1.72669586,  0.76993668, -0.13022396],\n",
       "       [ 0.33032858,  0.1477271 , -0.69955863,  0.30664689,  0.01564304,\n",
       "        -2.48095838,  0.115297  ,  0.48452532],\n",
       "       [ 1.132685  , -0.54609177, -0.96081991, -0.29051016, -0.61586595,\n",
       "         0.87648744,  0.3839949 ,  0.5392723 ],\n",
       "       [-1.62965614,  0.26460878, -0.23499658,  0.31923647,  2.09765447,\n",
       "        -0.22026848, -0.4784167 , -0.76620889],\n",
       "       [-1.0955405 ,  0.35227546, -0.22158537, -0.02157352,  0.14344153,\n",
       "         0.40809052, -0.91718462, -0.11204602],\n",
       "       [-1.4620835 ,  0.74208671,  0.73127219, -0.18386141, -1.22239886,\n",
       "         0.94467735,  0.67847507,  1.18921636],\n",
       "       [-1.1971234 , -0.22029549,  0.25175526, -0.40415833, -0.14356217,\n",
       "        -0.28056664,  0.49041642,  0.3800413 ],\n",
       "       [ 2.14937861, -0.06988328, -0.10150531,  1.26709295,  0.97487325,\n",
       "        -0.10839531, -1.53106032,  0.19097801]])"
      ]
     },
     "execution_count": 59,
     "metadata": {},
     "output_type": "execute_result"
    }
   ],
   "source": [
    "# 只修改形状，但是不修改行列\n",
    "stock_change.reshape((10, 8))"
   ]
  },
  {
   "cell_type": "code",
   "execution_count": 60,
   "id": "f09a7f33-82a4-4444-a221-f1896c822db5",
   "metadata": {},
   "outputs": [],
   "source": [
    "# 没有返回值，会对原始数据进行修改\n",
    "stock_change.resize((10, 8))"
   ]
  },
  {
   "cell_type": "code",
   "execution_count": 61,
   "id": "0a053cd6-7dfd-4b01-8436-5184619d60c1",
   "metadata": {},
   "outputs": [
    {
     "data": {
      "text/plain": [
       "(10, 8)"
      ]
     },
     "execution_count": 61,
     "metadata": {},
     "output_type": "execute_result"
    }
   ],
   "source": [
    "stock_change.shape"
   ]
  },
  {
   "cell_type": "code",
   "execution_count": 62,
   "id": "a639f5c5-2fff-4ac1-81d3-bcf720234b45",
   "metadata": {},
   "outputs": [
    {
     "data": {
      "text/plain": [
       "array([[ 0.10560625,  0.00434597, -1.05309266, -0.06301503, -0.18022793,\n",
       "        -0.60524962, -1.38382056, -0.78824009],\n",
       "       [ 0.21014195, -0.04363117, -1.28722514,  0.82664775,  0.43600724,\n",
       "         0.92704116,  0.21249706, -1.49305274],\n",
       "       [-0.93499302,  1.05134855,  2.0325083 , -1.00838943,  1.20911196,\n",
       "        -1.72669586,  0.76993668, -0.13022396],\n",
       "       [ 0.33032858,  0.1477271 , -0.69955863,  0.30664689,  0.01564304,\n",
       "        -2.48095838,  0.115297  ,  0.48452532],\n",
       "       [ 1.132685  , -0.54609177, -0.96081991, -0.29051016, -0.61586595,\n",
       "         0.87648744,  0.3839949 ,  0.5392723 ],\n",
       "       [-1.62965614,  0.26460878, -0.23499658,  0.31923647,  2.09765447,\n",
       "        -0.22026848, -0.4784167 , -0.76620889],\n",
       "       [-1.0955405 ,  0.35227546, -0.22158537, -0.02157352,  0.14344153,\n",
       "         0.40809052, -0.91718462, -0.11204602],\n",
       "       [-1.4620835 ,  0.74208671,  0.73127219, -0.18386141, -1.22239886,\n",
       "         0.94467735,  0.67847507,  1.18921636],\n",
       "       [-1.1971234 , -0.22029549,  0.25175526, -0.40415833, -0.14356217,\n",
       "        -0.28056664,  0.49041642,  0.3800413 ],\n",
       "       [ 2.14937861, -0.06988328, -0.10150531,  1.26709295,  0.97487325,\n",
       "        -0.10839531, -1.53106032,  0.19097801]])"
      ]
     },
     "execution_count": 62,
     "metadata": {},
     "output_type": "execute_result"
    }
   ],
   "source": [
    "stock_change"
   ]
  },
  {
   "cell_type": "code",
   "execution_count": 63,
   "id": "b734405c-780e-46ef-b510-6baabe9b3b2a",
   "metadata": {},
   "outputs": [],
   "source": [
    "stock_change.resize((8, 10))"
   ]
  },
  {
   "cell_type": "code",
   "execution_count": 64,
   "id": "25c79eee-9bb1-437e-9096-e10d52052fbb",
   "metadata": {},
   "outputs": [
    {
     "data": {
      "text/plain": [
       "array([[ 0.10560625, -1.28722514,  1.20911196,  0.115297  , -1.62965614,\n",
       "        -0.22158537, -1.22239886,  0.49041642],\n",
       "       [ 0.00434597,  0.82664775, -1.72669586,  0.48452532,  0.26460878,\n",
       "        -0.02157352,  0.94467735,  0.3800413 ],\n",
       "       [-1.05309266,  0.43600724,  0.76993668,  1.132685  , -0.23499658,\n",
       "         0.14344153,  0.67847507,  2.14937861],\n",
       "       [-0.06301503,  0.92704116, -0.13022396, -0.54609177,  0.31923647,\n",
       "         0.40809052,  1.18921636, -0.06988328],\n",
       "       [-0.18022793,  0.21249706,  0.33032858, -0.96081991,  2.09765447,\n",
       "        -0.91718462, -1.1971234 , -0.10150531],\n",
       "       [-0.60524962, -1.49305274,  0.1477271 , -0.29051016, -0.22026848,\n",
       "        -0.11204602, -0.22029549,  1.26709295],\n",
       "       [-1.38382056, -0.93499302, -0.69955863, -0.61586595, -0.4784167 ,\n",
       "        -1.4620835 ,  0.25175526,  0.97487325],\n",
       "       [-0.78824009,  1.05134855,  0.30664689,  0.87648744, -0.76620889,\n",
       "         0.74208671, -0.40415833, -0.10839531],\n",
       "       [ 0.21014195,  2.0325083 ,  0.01564304,  0.3839949 , -1.0955405 ,\n",
       "         0.73127219, -0.14356217, -1.53106032],\n",
       "       [-0.04363117, -1.00838943, -2.48095838,  0.5392723 ,  0.35227546,\n",
       "        -0.18386141, -0.28056664,  0.19097801]])"
      ]
     },
     "execution_count": 64,
     "metadata": {},
     "output_type": "execute_result"
    }
   ],
   "source": [
    "# 转置！！！！\n",
    "stock_change.T"
   ]
  },
  {
   "cell_type": "code",
   "execution_count": 65,
   "id": "e24494ef-4bec-4fda-a9ea-feccc4e9601c",
   "metadata": {},
   "outputs": [
    {
     "data": {
      "text/plain": [
       "array([[ 0.10560625,  0.00434597, -1.05309266, -0.06301503, -0.18022793,\n",
       "        -0.60524962, -1.38382056, -0.78824009,  0.21014195, -0.04363117],\n",
       "       [-1.28722514,  0.82664775,  0.43600724,  0.92704116,  0.21249706,\n",
       "        -1.49305274, -0.93499302,  1.05134855,  2.0325083 , -1.00838943],\n",
       "       [ 1.20911196, -1.72669586,  0.76993668, -0.13022396,  0.33032858,\n",
       "         0.1477271 , -0.69955863,  0.30664689,  0.01564304, -2.48095838],\n",
       "       [ 0.115297  ,  0.48452532,  1.132685  , -0.54609177, -0.96081991,\n",
       "        -0.29051016, -0.61586595,  0.87648744,  0.3839949 ,  0.5392723 ],\n",
       "       [-1.62965614,  0.26460878, -0.23499658,  0.31923647,  2.09765447,\n",
       "        -0.22026848, -0.4784167 , -0.76620889, -1.0955405 ,  0.35227546],\n",
       "       [-0.22158537, -0.02157352,  0.14344153,  0.40809052, -0.91718462,\n",
       "        -0.11204602, -1.4620835 ,  0.74208671,  0.73127219, -0.18386141],\n",
       "       [-1.22239886,  0.94467735,  0.67847507,  1.18921636, -1.1971234 ,\n",
       "        -0.22029549,  0.25175526, -0.40415833, -0.14356217, -0.28056664],\n",
       "       [ 0.49041642,  0.3800413 ,  2.14937861, -0.06988328, -0.10150531,\n",
       "         1.26709295,  0.97487325, -0.10839531, -1.53106032,  0.19097801]])"
      ]
     },
     "execution_count": 65,
     "metadata": {},
     "output_type": "execute_result"
    }
   ],
   "source": [
    "stock_change.reshape(-1,10)\n",
    "# reshape(m,n)中参数m或n其中一个可写为\"-1\"，\"-1\"的作用在于计算机根据原数组中的元素总数自动计算行或列的值。"
   ]
  },
  {
   "cell_type": "markdown",
   "id": "5d84aed6-145e-4de3-a364-ab2cfb8643bb",
   "metadata": {
    "jp-MarkdownHeadingCollapsed": true
   },
   "source": [
    "#### 类型修改"
   ]
  },
  {
   "cell_type": "code",
   "execution_count": 66,
   "id": "b0bd5429-e24b-42e8-9366-34afb86ecd89",
   "metadata": {},
   "outputs": [
    {
     "data": {
      "text/plain": [
       "array([[ 0,  0, -1,  0,  0,  0, -1,  0,  0,  0],\n",
       "       [-1,  0,  0,  0,  0, -1,  0,  1,  2, -1],\n",
       "       [ 1, -1,  0,  0,  0,  0,  0,  0,  0, -2],\n",
       "       [ 0,  0,  1,  0,  0,  0,  0,  0,  0,  0],\n",
       "       [-1,  0,  0,  0,  2,  0,  0,  0, -1,  0],\n",
       "       [ 0,  0,  0,  0,  0,  0, -1,  0,  0,  0],\n",
       "       [-1,  0,  0,  1, -1,  0,  0,  0,  0,  0],\n",
       "       [ 0,  0,  2,  0,  0,  1,  0,  0, -1,  0]])"
      ]
     },
     "execution_count": 66,
     "metadata": {},
     "output_type": "execute_result"
    }
   ],
   "source": [
    "stock_change.astype(\"int32\")"
   ]
  },
  {
   "cell_type": "code",
   "execution_count": 67,
   "id": "cd9a2499-b9c2-4fe5-8cad-b48cd49141b7",
   "metadata": {},
   "outputs": [
    {
     "name": "stderr",
     "output_type": "stream",
     "text": [
      "C:\\Users\\31452\\AppData\\Local\\Temp\\ipykernel_15216\\2974151914.py:1: DeprecationWarning: tostring() is deprecated. Use tobytes() instead.\n",
      "  stock_change.tostring()\n"
     ]
    },
    {
     "data": {
      "text/plain": [
       "b'\\xd6\\xf1\\xe9\\xe2\\x02\\t\\xbb?\\x81G/\\xc8\\x14\\xcdq?{\\xce\\xa1\\xb0w\\xd9\\xf0\\xbf6\\xc8\\x97\\xc8\\xc0!\\xb0\\xbf\\x9b\\xb9\\xf7p\\xb5\\x11\\xc7\\xbfu\\xce\\x82q4^\\xe3\\xbf\\xb5\\x90%\\x06!$\\xf6\\xbf\\xbf\\'bFC9\\xe9\\xbf\\xb9\\x83\\xb5v\\xee\\xe5\\xca?\\xa6\\x98\\x1c\\xf8\\xd2V\\xa6\\xbf(\\xc7\\x8bcy\\x98\\xf4\\xbf\\xc1\\xba\\xc7\\xf9\\xe5s\\xea?\\xd5\\xedd\\xe9\\x8a\\xe7\\xdb?\\x11\\xd5H;R\\xaa\\xed?x\\xe9\\xf3\\x89\\x1a3\\xcb?W\\x9e\\xbbE\\x8b\\xe3\\xf7\\xbf\\xe2\\x0f\\x0b|v\\xeb\\xed\\xbfD.\\x7f\\xdbR\\xd2\\xf0?q\\xd9%\\xb6\\x93B\\x00@@8\\x88\\xf5\\\\\"\\xf0\\xbf<\\x97*\\xc7\\x85X\\xf3?\\x03*{\\xd7\\x8b\\xa0\\xfb\\xbf\\xe0\\xd9=?R\\xa3\\xe8?\\x0e\\xf6\\x1c\\xc2-\\xab\\xc0\\xbf\\x81\\x8fKz\\x1a$\\xd5?=\\xd05\\xbd\\xb8\\xe8\\xc2?\\x98X\\x1d\\xc7\\xc8b\\xe6\\xbfk\\xcb4E\\x1a\\xa0\\xd3?\\xc1\\xbe\\xaey\\xba\\x04\\x90?J\\x89n\\xb4\\x00\\xd9\\x03\\xc0#\\x96\\xa7\\xa7\\x1a\\x84\\xbd?\\xa9\\xfe\\xdc\\x7fv\\x02\\xdf?\\x9d\\x1eSOz\\x1f\\xf2?\\xd4\\xbcit\\x95y\\xe1\\xbf\\xe5O+e\\t\\xbf\\xee\\xbf~\\xf9Y\\xef\\xb7\\x97\\xd2\\xbf\\xd2\\x81\\xba\\x82,\\xb5\\xe3\\xbf\\xceH\\xedd/\\x0c\\xec?\\xac\\x82\\x98X_\\x93\\xd8?1\\xcf)\\xfc\\xb7A\\xe1?E\\xa2\\xfaQ\\x12\\x13\\xfa\\xbf\\xc3\\x9f6\\xa6Y\\xef\\xd0?d\\x90\\xa6*^\\x14\\xce\\xbf\\xb1\\xda\\x06\\xd2^n\\xd4?\\x8f\\xbc\\x8c\\x10\\xff\\xc7\\x00@\\xb3\\xe64\\xec\\xc11\\xcc\\xbfR:Z\\x10a\\x9e\\xde\\xbfM\\x1a\\xbd\\x80\\xc8\\x84\\xe8\\xbfU6\\x83zU\\x87\\xf1\\xbf\\xb1\\xa8\\xadb\\xae\\x8b\\xd6?\\x05-\\x90\\xcb\\xe8\\\\\\xcc\\xbf;\\x93\\x9c\\xa0^\\x17\\x96\\xbf\\xec\\xc4\\xfb\\xc6J\\\\\\xc2?\\x83X\\x11\\xb0\\'\\x1e\\xda?I\\xcc\\x13\\x8e\\x93Y\\xed\\xbfS\\xac;Q\\x0c\\xaf\\xbc\\xbf\\x12\\xab!\\xaa\\xb1d\\xf7\\xbf\\x8e\\x8b\\xe6\\xa2,\\xbf\\xe7?\\xd5$\\xe9\\xec\\x94f\\xe7?^\\x7f\\xc7T\\xc5\\x88\\xc7\\xbf@\\x18>\\x1c\\xf2\\x8e\\xf3\\xbf\\x13\\x0f]\\xfc\\xcb:\\xee? *\\'Y\\x11\\xb6\\xe5?\\xf8\\x97N\\xbc\\x07\\x07\\xf3?\\x97;\\x08\\xddj\\'\\xf3\\xbf1d\\xbf\\x82\\xa42\\xcc\\xbf{\\xa7\\xa4\\x1c\\xc2\\x1c\\xd0?s\\x8bN\\xeb\\xba\\xdd\\xd9\\xbf/\\xfd\\xc6\\xc5>`\\xc2\\xbf\\xa0JV\\xc9\\xcd\\xf4\\xd1\\xbf\\xf0QC\\x90\\xfbb\\xdf?\\x10\\x98\\xa4\\xc3\\x98R\\xd8?\\x128,i\\xed1\\x01@|\\x1db\\xe8\\xde\\xe3\\xb1\\xbf\\xd5\\x8a\\xdaz@\\xfc\\xb9\\xbf#\\xf6\\nB\\x03F\\xf4?(l\\xfaa)2\\xef?p#l\\x94\\xcb\\xbf\\xbb\\xbf\\x85-}\\x1b9\\x7f\\xf8\\xbf\\x0e\\xc4\"\\xb1\\xf7q\\xc8?'"
      ]
     },
     "execution_count": 67,
     "metadata": {},
     "output_type": "execute_result"
    }
   ],
   "source": [
    "stock_change.tostring()"
   ]
  },
  {
   "cell_type": "code",
   "execution_count": 68,
   "id": "44bea498-ee55-49ed-bd7d-e267b6e34c82",
   "metadata": {},
   "outputs": [
    {
     "data": {
      "text/plain": [
       "b'\\xd6\\xf1\\xe9\\xe2\\x02\\t\\xbb?\\x81G/\\xc8\\x14\\xcdq?{\\xce\\xa1\\xb0w\\xd9\\xf0\\xbf6\\xc8\\x97\\xc8\\xc0!\\xb0\\xbf\\x9b\\xb9\\xf7p\\xb5\\x11\\xc7\\xbfu\\xce\\x82q4^\\xe3\\xbf\\xb5\\x90%\\x06!$\\xf6\\xbf\\xbf\\'bFC9\\xe9\\xbf\\xb9\\x83\\xb5v\\xee\\xe5\\xca?\\xa6\\x98\\x1c\\xf8\\xd2V\\xa6\\xbf(\\xc7\\x8bcy\\x98\\xf4\\xbf\\xc1\\xba\\xc7\\xf9\\xe5s\\xea?\\xd5\\xedd\\xe9\\x8a\\xe7\\xdb?\\x11\\xd5H;R\\xaa\\xed?x\\xe9\\xf3\\x89\\x1a3\\xcb?W\\x9e\\xbbE\\x8b\\xe3\\xf7\\xbf\\xe2\\x0f\\x0b|v\\xeb\\xed\\xbfD.\\x7f\\xdbR\\xd2\\xf0?q\\xd9%\\xb6\\x93B\\x00@@8\\x88\\xf5\\\\\"\\xf0\\xbf<\\x97*\\xc7\\x85X\\xf3?\\x03*{\\xd7\\x8b\\xa0\\xfb\\xbf\\xe0\\xd9=?R\\xa3\\xe8?\\x0e\\xf6\\x1c\\xc2-\\xab\\xc0\\xbf\\x81\\x8fKz\\x1a$\\xd5?=\\xd05\\xbd\\xb8\\xe8\\xc2?\\x98X\\x1d\\xc7\\xc8b\\xe6\\xbfk\\xcb4E\\x1a\\xa0\\xd3?\\xc1\\xbe\\xaey\\xba\\x04\\x90?J\\x89n\\xb4\\x00\\xd9\\x03\\xc0#\\x96\\xa7\\xa7\\x1a\\x84\\xbd?\\xa9\\xfe\\xdc\\x7fv\\x02\\xdf?\\x9d\\x1eSOz\\x1f\\xf2?\\xd4\\xbcit\\x95y\\xe1\\xbf\\xe5O+e\\t\\xbf\\xee\\xbf~\\xf9Y\\xef\\xb7\\x97\\xd2\\xbf\\xd2\\x81\\xba\\x82,\\xb5\\xe3\\xbf\\xceH\\xedd/\\x0c\\xec?\\xac\\x82\\x98X_\\x93\\xd8?1\\xcf)\\xfc\\xb7A\\xe1?E\\xa2\\xfaQ\\x12\\x13\\xfa\\xbf\\xc3\\x9f6\\xa6Y\\xef\\xd0?d\\x90\\xa6*^\\x14\\xce\\xbf\\xb1\\xda\\x06\\xd2^n\\xd4?\\x8f\\xbc\\x8c\\x10\\xff\\xc7\\x00@\\xb3\\xe64\\xec\\xc11\\xcc\\xbfR:Z\\x10a\\x9e\\xde\\xbfM\\x1a\\xbd\\x80\\xc8\\x84\\xe8\\xbfU6\\x83zU\\x87\\xf1\\xbf\\xb1\\xa8\\xadb\\xae\\x8b\\xd6?\\x05-\\x90\\xcb\\xe8\\\\\\xcc\\xbf;\\x93\\x9c\\xa0^\\x17\\x96\\xbf\\xec\\xc4\\xfb\\xc6J\\\\\\xc2?\\x83X\\x11\\xb0\\'\\x1e\\xda?I\\xcc\\x13\\x8e\\x93Y\\xed\\xbfS\\xac;Q\\x0c\\xaf\\xbc\\xbf\\x12\\xab!\\xaa\\xb1d\\xf7\\xbf\\x8e\\x8b\\xe6\\xa2,\\xbf\\xe7?\\xd5$\\xe9\\xec\\x94f\\xe7?^\\x7f\\xc7T\\xc5\\x88\\xc7\\xbf@\\x18>\\x1c\\xf2\\x8e\\xf3\\xbf\\x13\\x0f]\\xfc\\xcb:\\xee? *\\'Y\\x11\\xb6\\xe5?\\xf8\\x97N\\xbc\\x07\\x07\\xf3?\\x97;\\x08\\xddj\\'\\xf3\\xbf1d\\xbf\\x82\\xa42\\xcc\\xbf{\\xa7\\xa4\\x1c\\xc2\\x1c\\xd0?s\\x8bN\\xeb\\xba\\xdd\\xd9\\xbf/\\xfd\\xc6\\xc5>`\\xc2\\xbf\\xa0JV\\xc9\\xcd\\xf4\\xd1\\xbf\\xf0QC\\x90\\xfbb\\xdf?\\x10\\x98\\xa4\\xc3\\x98R\\xd8?\\x128,i\\xed1\\x01@|\\x1db\\xe8\\xde\\xe3\\xb1\\xbf\\xd5\\x8a\\xdaz@\\xfc\\xb9\\xbf#\\xf6\\nB\\x03F\\xf4?(l\\xfaa)2\\xef?p#l\\x94\\xcb\\xbf\\xbb\\xbf\\x85-}\\x1b9\\x7f\\xf8\\xbf\\x0e\\xc4\"\\xb1\\xf7q\\xc8?'"
      ]
     },
     "execution_count": 68,
     "metadata": {},
     "output_type": "execute_result"
    }
   ],
   "source": [
    "stock_change.tobytes()"
   ]
  },
  {
   "cell_type": "markdown",
   "id": "2a3cb52e-0b8d-4ad1-8fc6-e469d2caabd2",
   "metadata": {
    "jp-MarkdownHeadingCollapsed": true
   },
   "source": [
    "#### 数组的去重"
   ]
  },
  {
   "cell_type": "code",
   "execution_count": 69,
   "id": "04bb0279-3900-4a60-8f3d-68126df9cd09",
   "metadata": {},
   "outputs": [],
   "source": [
    "temp = np.array([[1, 2, 3, 4],[3, 4, 5, 6]])"
   ]
  },
  {
   "cell_type": "code",
   "execution_count": 70,
   "id": "b902c0a1-5bb1-439e-a89f-4e85e39917de",
   "metadata": {},
   "outputs": [
    {
     "data": {
      "text/plain": [
       "array([[1, 2, 3, 4],\n",
       "       [3, 4, 5, 6]])"
      ]
     },
     "execution_count": 70,
     "metadata": {},
     "output_type": "execute_result"
    }
   ],
   "source": [
    "temp"
   ]
  },
  {
   "cell_type": "code",
   "execution_count": 71,
   "id": "ff89dc0d-e09f-4589-b76d-3cd068a44014",
   "metadata": {},
   "outputs": [
    {
     "data": {
      "text/plain": [
       "array([1, 2, 3, 4, 5, 6])"
      ]
     },
     "execution_count": 71,
     "metadata": {},
     "output_type": "execute_result"
    }
   ],
   "source": [
    "np.unique(temp)"
   ]
  },
  {
   "cell_type": "code",
   "execution_count": 72,
   "id": "844343d4-0665-4f50-af11-b9e72c9d691f",
   "metadata": {},
   "outputs": [
    {
     "data": {
      "text/plain": [
       "{1, 2, 3, 4, 5, 6}"
      ]
     },
     "execution_count": 72,
     "metadata": {},
     "output_type": "execute_result"
    }
   ],
   "source": [
    "# set()只能对一维数组进行操作，所以可以使用flatten()将二维数组进行拍扁\n",
    "set(temp.flatten())"
   ]
  },
  {
   "cell_type": "code",
   "execution_count": 73,
   "id": "d0d8d82b-485a-4b0c-9310-f06232f9ab60",
   "metadata": {},
   "outputs": [],
   "source": [
    "# set(temp)\n",
    "# TypeError: unhashable type: 'numpy.ndarray'\n",
    "# numpy数组是不可哈希的（unhashable）类型。哈希（hash）是一种将数据转换为固定长度的唯一标识的方法，而numpy数组是可变的，因此不支持哈希操作。 "
   ]
  },
  {
   "cell_type": "markdown",
   "id": "155e9b16-8763-498c-aedf-9c51a0e05570",
   "metadata": {
    "jp-MarkdownHeadingCollapsed": true
   },
   "source": [
    "### ndarray运算"
   ]
  },
  {
   "cell_type": "markdown",
   "id": "725371a9-5733-4ebf-8584-d5aa14e86a54",
   "metadata": {
    "jp-MarkdownHeadingCollapsed": true
   },
   "source": [
    "#### 逻辑运算"
   ]
  },
  {
   "cell_type": "code",
   "execution_count": 74,
   "id": "819ad531-6ca8-49c2-bbbf-5425bc3541bc",
   "metadata": {},
   "outputs": [],
   "source": [
    "stock_change = np.random.normal(loc=0, scale=1, size=(8, 10))"
   ]
  },
  {
   "cell_type": "code",
   "execution_count": 75,
   "id": "ddd88047-1728-433f-b039-f54e49874267",
   "metadata": {},
   "outputs": [
    {
     "data": {
      "text/plain": [
       "array([[ 0.96407322, -1.51964747, -1.70515445,  0.30323689,  0.41715766,\n",
       "        -0.01633773,  0.45099161, -0.35468947, -0.27952071,  0.03126445],\n",
       "       [-1.29574692, -1.07319566, -0.31664808, -0.98178065, -0.90117137,\n",
       "         1.32926723,  1.87397775,  0.34473718, -1.10526711, -0.5407219 ],\n",
       "       [-0.84045837, -0.42175997, -0.69608865, -1.4491011 , -1.05432897,\n",
       "         0.92986398,  0.09360415,  0.59063918, -0.93817458,  1.82099478],\n",
       "       [ 0.41582639,  1.22617216, -2.29841008,  0.16414123,  0.46260404,\n",
       "        -0.96258429, -1.12572821, -1.76761013, -0.35506365,  0.1815024 ],\n",
       "       [ 1.70768085,  2.95010648,  1.65870911, -0.0519881 , -0.47733801,\n",
       "        -0.61278174, -0.69073627, -0.60253421, -1.69913993,  0.01521898],\n",
       "       [-1.63304931, -1.43894592, -0.04191374, -0.39348803, -0.01811193,\n",
       "        -3.15246316, -0.34129953,  0.94782015, -0.25251786,  0.32604395],\n",
       "       [-0.44295152, -0.44857901, -0.22552248,  0.21409904, -1.18935927,\n",
       "         0.30091708,  0.96134361, -1.3495484 ,  1.1684133 , -0.9698423 ],\n",
       "       [-0.98847547, -0.25206199,  0.32664278, -0.64273005, -1.90434629,\n",
       "        -1.39240036, -0.43137401,  0.44863453,  0.50533373, -0.27734377]])"
      ]
     },
     "execution_count": 75,
     "metadata": {},
     "output_type": "execute_result"
    }
   ],
   "source": [
    "stock_change"
   ]
  },
  {
   "cell_type": "code",
   "execution_count": 76,
   "id": "f0497c70-5892-41fe-afc0-e01b58c144ed",
   "metadata": {},
   "outputs": [
    {
     "data": {
      "text/plain": [
       "array([[ True, False, False, False, False, False, False, False, False,\n",
       "        False],\n",
       "       [False, False, False, False, False,  True,  True, False, False,\n",
       "        False],\n",
       "       [False, False, False, False, False,  True, False,  True, False,\n",
       "         True],\n",
       "       [False,  True, False, False, False, False, False, False, False,\n",
       "        False],\n",
       "       [ True,  True,  True, False, False, False, False, False, False,\n",
       "        False],\n",
       "       [False, False, False, False, False, False, False,  True, False,\n",
       "        False],\n",
       "       [False, False, False, False, False, False,  True, False,  True,\n",
       "        False],\n",
       "       [False, False, False, False, False, False, False, False,  True,\n",
       "        False]])"
      ]
     },
     "execution_count": 76,
     "metadata": {},
     "output_type": "execute_result"
    }
   ],
   "source": [
    "# 逻辑判断, 如果涨跌幅大于0.5就标记为True 否则为False\n",
    "stock_change > 0.5"
   ]
  },
  {
   "cell_type": "code",
   "execution_count": 77,
   "id": "b1c1f0f0-f3a7-493c-ba86-df209f650eab",
   "metadata": {},
   "outputs": [
    {
     "data": {
      "text/plain": [
       "array([0.96407322, 1.32926723, 1.87397775, 0.92986398, 0.59063918,\n",
       "       1.82099478, 1.22617216, 1.70768085, 2.95010648, 1.65870911,\n",
       "       0.94782015, 0.96134361, 1.1684133 , 0.50533373])"
      ]
     },
     "execution_count": 77,
     "metadata": {},
     "output_type": "execute_result"
    }
   ],
   "source": [
    "stock_change[stock_change > 0.5]"
   ]
  },
  {
   "cell_type": "code",
   "execution_count": 78,
   "id": "502f8477-9458-4da3-8c63-0d5a9a687f5e",
   "metadata": {},
   "outputs": [],
   "source": [
    "stock_change[stock_change > 0.5] = 1.1"
   ]
  },
  {
   "cell_type": "code",
   "execution_count": 79,
   "id": "7c383def-04d9-4aaa-b52e-6f4fb6b0663b",
   "metadata": {},
   "outputs": [
    {
     "data": {
      "text/plain": [
       "array([[ 1.1       , -1.51964747, -1.70515445,  0.30323689,  0.41715766,\n",
       "        -0.01633773,  0.45099161, -0.35468947, -0.27952071,  0.03126445],\n",
       "       [-1.29574692, -1.07319566, -0.31664808, -0.98178065, -0.90117137,\n",
       "         1.1       ,  1.1       ,  0.34473718, -1.10526711, -0.5407219 ],\n",
       "       [-0.84045837, -0.42175997, -0.69608865, -1.4491011 , -1.05432897,\n",
       "         1.1       ,  0.09360415,  1.1       , -0.93817458,  1.1       ],\n",
       "       [ 0.41582639,  1.1       , -2.29841008,  0.16414123,  0.46260404,\n",
       "        -0.96258429, -1.12572821, -1.76761013, -0.35506365,  0.1815024 ],\n",
       "       [ 1.1       ,  1.1       ,  1.1       , -0.0519881 , -0.47733801,\n",
       "        -0.61278174, -0.69073627, -0.60253421, -1.69913993,  0.01521898],\n",
       "       [-1.63304931, -1.43894592, -0.04191374, -0.39348803, -0.01811193,\n",
       "        -3.15246316, -0.34129953,  1.1       , -0.25251786,  0.32604395],\n",
       "       [-0.44295152, -0.44857901, -0.22552248,  0.21409904, -1.18935927,\n",
       "         0.30091708,  1.1       , -1.3495484 ,  1.1       , -0.9698423 ],\n",
       "       [-0.98847547, -0.25206199,  0.32664278, -0.64273005, -1.90434629,\n",
       "        -1.39240036, -0.43137401,  0.44863453,  1.1       , -0.27734377]])"
      ]
     },
     "execution_count": 79,
     "metadata": {},
     "output_type": "execute_result"
    }
   ],
   "source": [
    "stock_change"
   ]
  },
  {
   "cell_type": "code",
   "execution_count": 80,
   "id": "30583ba8-b8f7-4f27-8b0b-5dd85923febd",
   "metadata": {},
   "outputs": [
    {
     "data": {
      "text/plain": [
       "array([[ True, False, False,  True,  True],\n",
       "       [False, False, False, False, False]])"
      ]
     },
     "execution_count": 80,
     "metadata": {},
     "output_type": "execute_result"
    }
   ],
   "source": [
    "# 判断stock_change[0:2, 0:5]是否全是上涨的\n",
    "stock_change[0:2, 0:5] > 0"
   ]
  },
  {
   "cell_type": "code",
   "execution_count": 81,
   "id": "6d98c2e4-03d6-43a3-ae5f-9ea33fb12bc2",
   "metadata": {},
   "outputs": [
    {
     "data": {
      "text/plain": [
       "False"
      ]
     },
     "execution_count": 81,
     "metadata": {},
     "output_type": "execute_result"
    }
   ],
   "source": [
    "np.all(stock_change[0:2, 0:5] > 0)"
   ]
  },
  {
   "cell_type": "code",
   "execution_count": 82,
   "id": "0a1173c2-4d84-4234-8395-dd53e307beda",
   "metadata": {},
   "outputs": [
    {
     "data": {
      "text/plain": [
       "True"
      ]
     },
     "execution_count": 82,
     "metadata": {},
     "output_type": "execute_result"
    }
   ],
   "source": [
    "# 判断前5只股票这段期间是否有上涨的\n",
    "np.any(stock_change[:5, :] > 0)"
   ]
  },
  {
   "cell_type": "markdown",
   "id": "848b5e41-8485-41f3-b0c7-356cba8f1c0d",
   "metadata": {
    "jp-MarkdownHeadingCollapsed": true
   },
   "source": [
    "#### np.where（三元运算符）"
   ]
  },
  {
   "cell_type": "code",
   "execution_count": 83,
   "id": "2f893ed2-98b7-424a-ac8c-3ca43b772669",
   "metadata": {},
   "outputs": [],
   "source": [
    "# 判断前四个股票前四天的涨跌幅 大于0的置为1，否则为0\n",
    "temp = stock_change[:4, :4]"
   ]
  },
  {
   "cell_type": "code",
   "execution_count": 84,
   "id": "97ea5a8f-c41d-4416-b080-bd97b5ac2b02",
   "metadata": {},
   "outputs": [
    {
     "data": {
      "text/plain": [
       "array([[ 1.1       , -1.51964747, -1.70515445,  0.30323689],\n",
       "       [-1.29574692, -1.07319566, -0.31664808, -0.98178065],\n",
       "       [-0.84045837, -0.42175997, -0.69608865, -1.4491011 ],\n",
       "       [ 0.41582639,  1.1       , -2.29841008,  0.16414123]])"
      ]
     },
     "execution_count": 84,
     "metadata": {},
     "output_type": "execute_result"
    }
   ],
   "source": [
    "temp"
   ]
  },
  {
   "cell_type": "code",
   "execution_count": 85,
   "id": "0870c4df-f340-443e-b5c8-e2bd9fc7f993",
   "metadata": {},
   "outputs": [
    {
     "data": {
      "text/plain": [
       "array([[1, 0, 0, 1],\n",
       "       [0, 0, 0, 0],\n",
       "       [0, 0, 0, 0],\n",
       "       [1, 1, 0, 1]])"
      ]
     },
     "execution_count": 85,
     "metadata": {},
     "output_type": "execute_result"
    }
   ],
   "source": [
    "np.where(temp > 0, 1, 0)"
   ]
  },
  {
   "cell_type": "code",
   "execution_count": 86,
   "id": "d2b40e5f-32a0-42d4-9b57-64254f675263",
   "metadata": {},
   "outputs": [
    {
     "data": {
      "text/plain": [
       "array([[ True, False, False,  True],\n",
       "       [False, False, False, False],\n",
       "       [False, False, False, False],\n",
       "       [ True,  True, False,  True]])"
      ]
     },
     "execution_count": 86,
     "metadata": {},
     "output_type": "execute_result"
    }
   ],
   "source": [
    "temp > 0"
   ]
  },
  {
   "cell_type": "code",
   "execution_count": 87,
   "id": "1d60472e-56d7-4a7f-8510-4ef098505e97",
   "metadata": {},
   "outputs": [
    {
     "data": {
      "text/plain": [
       "array([[1, 0, 1, 1],\n",
       "       [1, 1, 1, 1],\n",
       "       [0, 0, 1, 0],\n",
       "       [1, 0, 1, 0]])"
      ]
     },
     "execution_count": 87,
     "metadata": {},
     "output_type": "execute_result"
    }
   ],
   "source": [
    "np.where([[ True, False,  True,  True],\n",
    "       [ True,  True,  True,  True],\n",
    "       [False, False,  True, False],\n",
    "       [ True, False,  True, False]], 1, 0)"
   ]
  },
  {
   "cell_type": "code",
   "execution_count": 88,
   "id": "6ac0ea77-eb74-41a2-912b-af139d0bd02d",
   "metadata": {},
   "outputs": [
    {
     "data": {
      "text/plain": [
       "array([[ 1.1       , -1.51964747, -1.70515445,  0.30323689],\n",
       "       [-1.29574692, -1.07319566, -0.31664808, -0.98178065],\n",
       "       [-0.84045837, -0.42175997, -0.69608865, -1.4491011 ],\n",
       "       [ 0.41582639,  1.1       , -2.29841008,  0.16414123]])"
      ]
     },
     "execution_count": 88,
     "metadata": {},
     "output_type": "execute_result"
    }
   ],
   "source": [
    "temp"
   ]
  },
  {
   "cell_type": "code",
   "execution_count": 89,
   "id": "afc7de52-442c-4054-a21a-7d27fe6ff11c",
   "metadata": {},
   "outputs": [
    {
     "data": {
      "text/plain": [
       "array([[False, False, False, False],\n",
       "       [False, False, False, False],\n",
       "       [False, False, False, False],\n",
       "       [False, False, False, False]])"
      ]
     },
     "execution_count": 89,
     "metadata": {},
     "output_type": "execute_result"
    }
   ],
   "source": [
    "# 判断前四个股票前四天的涨跌幅 大于0.5并且小于1的，换为1，否则为0\n",
    "# 判断前四个股票前四天的涨跌幅 大于0.5或者小于-0.5的，换为1，否则为0\n",
    "# (temp > 0.5) and (temp < 1)\n",
    "np.logical_and(temp > 0.5, temp < 1)"
   ]
  },
  {
   "cell_type": "code",
   "execution_count": 90,
   "id": "11807a8a-3177-4b99-b749-bc862eb23878",
   "metadata": {},
   "outputs": [
    {
     "data": {
      "text/plain": [
       "array([[0, 0, 0, 0],\n",
       "       [0, 0, 0, 0],\n",
       "       [0, 0, 0, 0],\n",
       "       [0, 0, 0, 0]])"
      ]
     },
     "execution_count": 90,
     "metadata": {},
     "output_type": "execute_result"
    }
   ],
   "source": [
    "np.where([[False, False, False, False],\n",
    "       [False, False, False, False],\n",
    "       [False, False, False, False],\n",
    "       [False, False, False, False]], 1, 0)"
   ]
  },
  {
   "cell_type": "code",
   "execution_count": 91,
   "id": "49b62f6a-0cc4-47a9-b142-38e9ea3ab7a1",
   "metadata": {},
   "outputs": [
    {
     "data": {
      "text/plain": [
       "array([[0, 0, 0, 0],\n",
       "       [0, 0, 0, 0],\n",
       "       [0, 0, 0, 0],\n",
       "       [0, 0, 0, 0]])"
      ]
     },
     "execution_count": 91,
     "metadata": {},
     "output_type": "execute_result"
    }
   ],
   "source": [
    "np.where(np.logical_and(temp > 0.5, temp < 1), 1, 0)"
   ]
  },
  {
   "cell_type": "code",
   "execution_count": 92,
   "id": "e58b5fe6-c5bc-4b90-be6b-77deec20834a",
   "metadata": {},
   "outputs": [
    {
     "data": {
      "text/plain": [
       "array([[ True,  True,  True, False],\n",
       "       [ True,  True, False,  True],\n",
       "       [ True, False,  True,  True],\n",
       "       [False,  True,  True, False]])"
      ]
     },
     "execution_count": 92,
     "metadata": {},
     "output_type": "execute_result"
    }
   ],
   "source": [
    "np.logical_or(temp > 0.5, temp < -0.5)"
   ]
  },
  {
   "cell_type": "code",
   "execution_count": 93,
   "id": "106c68c4-8fdc-40b8-9510-9f1a76d4f7f0",
   "metadata": {},
   "outputs": [
    {
     "data": {
      "text/plain": [
       "array([[11, 11, 11,  3],\n",
       "       [11, 11,  3, 11],\n",
       "       [11,  3, 11, 11],\n",
       "       [ 3, 11, 11,  3]])"
      ]
     },
     "execution_count": 93,
     "metadata": {},
     "output_type": "execute_result"
    }
   ],
   "source": [
    "np.where(np.logical_or(temp > 0.5, temp < -0.5), 11, 3)"
   ]
  },
  {
   "cell_type": "markdown",
   "id": "346c6095-bebb-4371-8646-59d49afa381e",
   "metadata": {
    "jp-MarkdownHeadingCollapsed": true
   },
   "source": [
    "#### 统计运算"
   ]
  },
  {
   "cell_type": "code",
   "execution_count": 94,
   "id": "a5c921fa-9c40-4849-b13a-280e43f7cd78",
   "metadata": {},
   "outputs": [],
   "source": [
    "# min max mean(平均值) median(中位数) var(平均差) std(方差)\n",
    "# np.函数名 / ndarray.函数名"
   ]
  },
  {
   "cell_type": "markdown",
   "id": "63c199cb-871f-4f4c-bded-f8b8ecf3b806",
   "metadata": {
    "jp-MarkdownHeadingCollapsed": true
   },
   "source": [
    "#### 股票涨跌幅统计运算"
   ]
  },
  {
   "cell_type": "code",
   "execution_count": 95,
   "id": "4e9b2573-8a4e-4ba2-be5b-13cd06c49c5c",
   "metadata": {},
   "outputs": [
    {
     "data": {
      "text/plain": [
       "array([[ 1.1       , -1.51964747, -1.70515445,  0.30323689],\n",
       "       [-1.29574692, -1.07319566, -0.31664808, -0.98178065],\n",
       "       [-0.84045837, -0.42175997, -0.69608865, -1.4491011 ],\n",
       "       [ 0.41582639,  1.1       , -2.29841008,  0.16414123]])"
      ]
     },
     "execution_count": 95,
     "metadata": {},
     "output_type": "execute_result"
    }
   ],
   "source": [
    "# 前四只股票前四天的最大涨幅\n",
    "temp # shape: (4, 4) 0  1"
   ]
  },
  {
   "cell_type": "code",
   "execution_count": 96,
   "id": "ec36326d-c17d-4878-a988-5f5c5157a892",
   "metadata": {},
   "outputs": [
    {
     "data": {
      "text/plain": [
       "1.1"
      ]
     },
     "execution_count": 96,
     "metadata": {},
     "output_type": "execute_result"
    }
   ],
   "source": [
    "temp.max()"
   ]
  },
  {
   "cell_type": "code",
   "execution_count": 97,
   "id": "468a06a2-5892-4384-84b8-a3677cb6bced",
   "metadata": {},
   "outputs": [
    {
     "data": {
      "text/plain": [
       "array([ 1.1       ,  1.1       , -0.31664808,  0.30323689])"
      ]
     },
     "execution_count": 97,
     "metadata": {},
     "output_type": "execute_result"
    }
   ],
   "source": [
    "# axis=0表示列\n",
    "temp.max(axis=0)"
   ]
  },
  {
   "cell_type": "code",
   "execution_count": 98,
   "id": "3676a3e3-149c-43b0-baed-fa3011c16309",
   "metadata": {},
   "outputs": [
    {
     "data": {
      "text/plain": [
       "array([ 1.1       , -0.31664808, -0.42175997,  1.1       ])"
      ]
     },
     "execution_count": 98,
     "metadata": {},
     "output_type": "execute_result"
    }
   ],
   "source": [
    "# axis=-1表示行\n",
    "np.max(temp, axis=-1)"
   ]
  },
  {
   "cell_type": "code",
   "execution_count": 99,
   "id": "caf121bc-ed8d-45ab-9ba3-c0555640a998",
   "metadata": {},
   "outputs": [],
   "source": [
    "# axis = 0时，确定最终二维数组的yi，zi时，也就是（x0，yi，zi）、（x1，yi，zi）、（x2，yi，zi）三个点的值作比较，取最大的放到（yi，zi）\n",
    "# axis = 1时，确定最终二维数组的xi，zi时，也就是（xi，y0，zi）、（xi，y1，zi）、（xi，y2，zi）三个点的值作比较，取最大的放到（xi，zi）\n",
    "# axis = -1时，确定最终二维数组的xi，yi时，也就是（xi，yi，z0）、（xi，yi，z1）、（xi，yi，z2）三个点的值作比较，取最大的放到（xi，yi）"
   ]
  },
  {
   "cell_type": "code",
   "execution_count": 100,
   "id": "2f618778-471a-4396-b3f2-b074b31f20fd",
   "metadata": {},
   "outputs": [
    {
     "data": {
      "text/plain": [
       "array([0, 2, 1, 1], dtype=int64)"
      ]
     },
     "execution_count": 100,
     "metadata": {},
     "output_type": "execute_result"
    }
   ],
   "source": [
    "np.argmax(temp, axis=-1)"
   ]
  },
  {
   "cell_type": "code",
   "execution_count": 101,
   "id": "65a6ae41-af97-4fee-bd80-2535b9c8fe6d",
   "metadata": {},
   "outputs": [
    {
     "data": {
      "text/plain": [
       "array([1, 0, 3, 2], dtype=int64)"
      ]
     },
     "execution_count": 101,
     "metadata": {},
     "output_type": "execute_result"
    }
   ],
   "source": [
    "np.argmin(temp, axis=0)"
   ]
  },
  {
   "cell_type": "markdown",
   "id": "2eafb343-a285-46bd-91f3-0488d2997d26",
   "metadata": {
    "jp-MarkdownHeadingCollapsed": true
   },
   "source": [
    "### 数组之间的运算"
   ]
  },
  {
   "cell_type": "markdown",
   "id": "bdadb1e0-908d-4ce4-9d28-c7afee894abf",
   "metadata": {
    "jp-MarkdownHeadingCollapsed": true
   },
   "source": [
    "#### 数组与数的运算"
   ]
  },
  {
   "cell_type": "code",
   "execution_count": 102,
   "id": "a056865b-4174-4994-8883-d7b72655aa71",
   "metadata": {},
   "outputs": [],
   "source": [
    "arr = np.array([[1, 2, 3, 2, 1, 4], [5, 6, 1, 2, 3, 1]])"
   ]
  },
  {
   "cell_type": "code",
   "execution_count": 103,
   "id": "ba61c600-b8ca-43ce-acc1-79a78a0bd0b8",
   "metadata": {},
   "outputs": [
    {
     "data": {
      "text/plain": [
       "array([[0.1, 0.2, 0.3, 0.2, 0.1, 0.4],\n",
       "       [0.5, 0.6, 0.1, 0.2, 0.3, 0.1]])"
      ]
     },
     "execution_count": 103,
     "metadata": {},
     "output_type": "execute_result"
    }
   ],
   "source": [
    "# 运算符作用到数组的每一个元素\n",
    "arr / 10"
   ]
  },
  {
   "cell_type": "markdown",
   "id": "05bd2f0f-4b6a-4a14-b449-fa1722dab057",
   "metadata": {
    "jp-MarkdownHeadingCollapsed": true
   },
   "source": [
    "#### 数组与数组的运算"
   ]
  },
  {
   "cell_type": "code",
   "execution_count": 104,
   "id": "803d82a1-013a-41be-bd8d-1e0411582f51",
   "metadata": {},
   "outputs": [],
   "source": [
    "arr1 = np.array([[1, 2, 3, 2, 1, 4], [5, 6, 1, 2, 3, 1]])\n",
    "arr2 = np.array([[1, 2, 3, 4], [3, 4, 5, 6]])"
   ]
  },
  {
   "cell_type": "code",
   "execution_count": 105,
   "id": "80a530e0-efb3-4c4b-a639-807e28b199af",
   "metadata": {},
   "outputs": [],
   "source": [
    "# arr1 + arr2\n",
    "# ValueError: operands could not be broadcast together with shapes (2,6) (2,4) "
   ]
  },
  {
   "cell_type": "markdown",
   "id": "7e3de4b7-2e57-43a3-88c7-b62e6bfbeea9",
   "metadata": {},
   "source": [
    "广播机制：\n",
    "\n",
    "执行broadcast的前提在于，两个ndarray执行的是element-wise（按位加，按位减）的运算，而不是矩阵乘法的运算，矩阵乘法运算时需要维度之间严格匹配。\n",
    "\n",
    "broadcast机制的功能是为了方便不同形状的ndarray（numpy库的核心数据结构）进行数学运算\n",
    "\n",
    ">当操作两个array时，numpy会逐个比较它们的shape（构成的元组tuple），只有在下述情况下，两arrays才算兼容：\n",
    "> + 相等\n",
    "> + \n",
    "其中一个为1，（进而可进行拷贝拓展已至，shape匹配）"
   ]
  },
  {
   "cell_type": "code",
   "execution_count": 106,
   "id": "71a24ad6-cb40-483f-a687-6107c1638b40",
   "metadata": {},
   "outputs": [],
   "source": [
    "# 示例！！！！！！！！！！！！！！\n",
    "# Image (3d array):  256 x 256 x 3\n",
    "# Scale (1d array):              3\n",
    "# Result (3d array): 256 x 256 x 3\n",
    " \n",
    "# A      (4d array):  8 x 1 x 6 x 1\n",
    "# B      (3d array):      7 x 1 x 5\n",
    "# Result (4d array):  8 x 7 x 6 x 5\n",
    " \n",
    "# A      (2d array):  5 x 4\n",
    "# B      (1d array):      1\n",
    "# Result (2d array):  5 x 4\n",
    " \n",
    "# A      (2d array):  15 x 3 x 5\n",
    "# B      (1d array):  15 x 1 x 5\n",
    "# Result (2d array):  15 x 3 x 5"
   ]
  },
  {
   "cell_type": "code",
   "execution_count": 107,
   "id": "7528049e-7f86-4965-8b87-f35d5cea6afc",
   "metadata": {},
   "outputs": [
    {
     "data": {
      "text/plain": [
       "array([[2, 3, 4, 3, 2, 5],\n",
       "       [8, 9, 4, 5, 6, 4]])"
      ]
     },
     "execution_count": 107,
     "metadata": {},
     "output_type": "execute_result"
    }
   ],
   "source": [
    "arr1 = np.array([[1, 2, 3, 2, 1, 4], [5, 6, 1, 2, 3, 1]])\n",
    "arr2 = np.array([[1], [3]])\n",
    "arr1 + arr2"
   ]
  },
  {
   "cell_type": "code",
   "execution_count": 108,
   "id": "352a7cae-2e7d-40e3-a0ff-cdd8502aec10",
   "metadata": {},
   "outputs": [
    {
     "data": {
      "text/plain": [
       "array([[ 1,  2,  3,  2,  1,  4],\n",
       "       [15, 18,  3,  6,  9,  3]])"
      ]
     },
     "execution_count": 108,
     "metadata": {},
     "output_type": "execute_result"
    }
   ],
   "source": [
    "arr1 * arr2"
   ]
  },
  {
   "cell_type": "code",
   "execution_count": 109,
   "id": "3547de4e-8d6a-450b-8650-a9ec04d2e7d0",
   "metadata": {},
   "outputs": [
    {
     "data": {
      "text/plain": [
       "array([[1.        , 2.        , 3.        , 2.        , 1.        ,\n",
       "        4.        ],\n",
       "       [1.66666667, 2.        , 0.33333333, 0.66666667, 1.        ,\n",
       "        0.33333333]])"
      ]
     },
     "execution_count": 109,
     "metadata": {},
     "output_type": "execute_result"
    }
   ],
   "source": [
    "arr1 / arr2"
   ]
  },
  {
   "cell_type": "code",
   "execution_count": 110,
   "id": "5c7a22aa-a7ed-4292-bfe5-bf6febb29d50",
   "metadata": {},
   "outputs": [
    {
     "data": {
      "text/plain": [
       "array([[1.        , 0.5       , 0.33333333, 0.5       , 1.        ,\n",
       "        0.25      ],\n",
       "       [0.6       , 0.5       , 3.        , 1.5       , 1.        ,\n",
       "        3.        ]])"
      ]
     },
     "execution_count": 110,
     "metadata": {},
     "output_type": "execute_result"
    }
   ],
   "source": [
    "arr2 /arr1"
   ]
  },
  {
   "cell_type": "code",
   "execution_count": 111,
   "id": "d9a9f1cf-076e-4e67-a502-ef22cd74ea25",
   "metadata": {},
   "outputs": [
    {
     "data": {
      "text/plain": [
       "array([[[ 1,  2, 45],\n",
       "        [ 6,  7, 28],\n",
       "        [10, 11, 92]],\n",
       "\n",
       "       [[10, 51, 12],\n",
       "        [15, 76, 17],\n",
       "        [19, 70, 21]],\n",
       "\n",
       "       [[79, 20, 21],\n",
       "        [94, 25, 26],\n",
       "        [88, 29, 30]]])"
      ]
     },
     "execution_count": 111,
     "metadata": {},
     "output_type": "execute_result"
    }
   ],
   "source": [
    "# (3,3,3)\n",
    "arr1 = np.array([[[0, 1, 44], [3, 4, 25], [6, 7, 88]],\n",
    "              [[9, 50, 11], [12, 73, 14], [15, 66, 17]],\n",
    "              [[78, 19, 20], [91, 22, 23], [84, 25, 26]]])\n",
    "arr2 = np.array([[1], [3], [4]])\n",
    "\n",
    "# 3 * 3 * 3\n",
    "#     3 * 1\n",
    "# 3 * 3 * 3\n",
    "\n",
    "arr1 + arr2"
   ]
  },
  {
   "cell_type": "markdown",
   "id": "8a04a700-5b4a-4983-9bbc-b97e66e25a20",
   "metadata": {
    "jp-MarkdownHeadingCollapsed": true
   },
   "source": [
    "#### 矩阵运算"
   ]
  },
  {
   "cell_type": "code",
   "execution_count": 112,
   "id": "911092e2-b426-4d60-bafb-37c6eae86efe",
   "metadata": {},
   "outputs": [],
   "source": [
    "# ndarray存储矩阵\n",
    "data = np.array([[80, 86],\n",
    "[82, 80],\n",
    "[85, 78],\n",
    "[90, 90],\n",
    "[86, 82],\n",
    "[82, 90],\n",
    "[78, 80],\n",
    "[92, 94]])"
   ]
  },
  {
   "cell_type": "code",
   "execution_count": 113,
   "id": "3792de0c-93d3-4787-acc9-4a43db5f3b5d",
   "metadata": {},
   "outputs": [],
   "source": [
    "# matrix存储矩阵\n",
    "data_mat = np.mat([[80, 86],\n",
    "[82, 80],\n",
    "[85, 78],\n",
    "[90, 90],\n",
    "[86, 82],\n",
    "[82, 90],\n",
    "[78, 80],\n",
    "[92, 94]])"
   ]
  },
  {
   "cell_type": "code",
   "execution_count": 114,
   "id": "0ea13dcc-83a3-467d-b47a-1dfb5369b71c",
   "metadata": {},
   "outputs": [
    {
     "data": {
      "text/plain": [
       "numpy.matrix"
      ]
     },
     "execution_count": 114,
     "metadata": {},
     "output_type": "execute_result"
    }
   ],
   "source": [
    "type(data_mat)"
   ]
  },
  {
   "cell_type": "code",
   "execution_count": 115,
   "id": "954d7a14-8a4e-4287-8728-59b6728a7a87",
   "metadata": {},
   "outputs": [],
   "source": [
    "weights = np.array([[0.3], [0.7]])\n",
    "weights_mat = np.mat([[0.3], [0.7]])"
   ]
  },
  {
   "cell_type": "code",
   "execution_count": 116,
   "id": "c221273e-a7b2-4fcf-967f-2e1416d02d7b",
   "metadata": {},
   "outputs": [
    {
     "data": {
      "text/plain": [
       "array([[84.2],\n",
       "       [80.6],\n",
       "       [80.1],\n",
       "       [90. ],\n",
       "       [83.2],\n",
       "       [87.6],\n",
       "       [79.4],\n",
       "       [93.4]])"
      ]
     },
     "execution_count": 116,
     "metadata": {},
     "output_type": "execute_result"
    }
   ],
   "source": [
    "# 矩阵运算\n",
    "np.matmul(data, weights)"
   ]
  },
  {
   "cell_type": "code",
   "execution_count": 117,
   "id": "2f9f52fb-4f31-4d0e-8fd3-a8a004dc6514",
   "metadata": {},
   "outputs": [
    {
     "data": {
      "text/plain": [
       "array([[84.2],\n",
       "       [80.6],\n",
       "       [80.1],\n",
       "       [90. ],\n",
       "       [83.2],\n",
       "       [87.6],\n",
       "       [79.4],\n",
       "       [93.4]])"
      ]
     },
     "execution_count": 117,
     "metadata": {},
     "output_type": "execute_result"
    }
   ],
   "source": [
    "np.dot(data, weights)"
   ]
  },
  {
   "cell_type": "code",
   "execution_count": 118,
   "id": "bc961b29-5bca-4e80-a02e-657c8eb5f654",
   "metadata": {},
   "outputs": [
    {
     "data": {
      "text/plain": [
       "matrix([[84.2],\n",
       "        [80.6],\n",
       "        [80.1],\n",
       "        [90. ],\n",
       "        [83.2],\n",
       "        [87.6],\n",
       "        [79.4],\n",
       "        [93.4]])"
      ]
     },
     "execution_count": 118,
     "metadata": {},
     "output_type": "execute_result"
    }
   ],
   "source": [
    "data_mat * weights_mat"
   ]
  },
  {
   "cell_type": "code",
   "execution_count": 119,
   "id": "08784b95-001a-41fc-8284-a617cd3159a3",
   "metadata": {},
   "outputs": [
    {
     "data": {
      "text/plain": [
       "array([[84.2],\n",
       "       [80.6],\n",
       "       [80.1],\n",
       "       [90. ],\n",
       "       [83.2],\n",
       "       [87.6],\n",
       "       [79.4],\n",
       "       [93.4]])"
      ]
     },
     "execution_count": 119,
     "metadata": {},
     "output_type": "execute_result"
    }
   ],
   "source": [
    "data @ weights"
   ]
  },
  {
   "cell_type": "code",
   "execution_count": 120,
   "id": "fe29e3a9-235e-4dae-8643-6e42b249a045",
   "metadata": {},
   "outputs": [],
   "source": [
    "# 注意：data * weights 不满足广播机制，不能进行运算"
   ]
  },
  {
   "cell_type": "markdown",
   "id": "c4426d29-3582-4b36-abe8-ff1efb1b8105",
   "metadata": {
    "jp-MarkdownHeadingCollapsed": true
   },
   "source": [
    "### 合并与分割"
   ]
  },
  {
   "cell_type": "markdown",
   "id": "0211ac79-405f-4534-aab9-0bc48a1aa01b",
   "metadata": {
    "jp-MarkdownHeadingCollapsed": true
   },
   "source": [
    "#### 合并"
   ]
  },
  {
   "cell_type": "code",
   "execution_count": 121,
   "id": "fc033ff5-ae8d-44b6-88c2-5a4cb325c911",
   "metadata": {},
   "outputs": [],
   "source": [
    "# np.hstack()：水平拼接\n",
    "# np.vstack()：竖直拼接\n",
    "# np.concatenate((a1,a2,...),axis=xxx)：通过指定维数进行拼接\n",
    "a = stock_change[:2, 0:4]\n",
    "b = stock_change[4:6, 0:4]"
   ]
  },
  {
   "cell_type": "code",
   "execution_count": 122,
   "id": "08b02197-c299-4e4a-98ec-46ee5fbb5b00",
   "metadata": {},
   "outputs": [
    {
     "data": {
      "text/plain": [
       "array([[ 1.1       , -1.51964747, -1.70515445,  0.30323689],\n",
       "       [-1.29574692, -1.07319566, -0.31664808, -0.98178065]])"
      ]
     },
     "execution_count": 122,
     "metadata": {},
     "output_type": "execute_result"
    }
   ],
   "source": [
    "a"
   ]
  },
  {
   "cell_type": "code",
   "execution_count": 123,
   "id": "b5dcad79-982c-44fc-a098-6c90b96e99af",
   "metadata": {},
   "outputs": [
    {
     "data": {
      "text/plain": [
       "array([[ 1.1       ,  1.1       ,  1.1       , -0.0519881 ],\n",
       "       [-1.63304931, -1.43894592, -0.04191374, -0.39348803]])"
      ]
     },
     "execution_count": 123,
     "metadata": {},
     "output_type": "execute_result"
    }
   ],
   "source": [
    "b"
   ]
  },
  {
   "cell_type": "code",
   "execution_count": 124,
   "id": "28a278a0-1a63-4aca-bb7f-f654634cae1b",
   "metadata": {},
   "outputs": [
    {
     "data": {
      "text/plain": [
       "array([[ 1.1       , -1.51964747, -1.70515445,  0.30323689,  1.1       ,\n",
       "         1.1       ,  1.1       , -0.0519881 ],\n",
       "       [-1.29574692, -1.07319566, -0.31664808, -0.98178065, -1.63304931,\n",
       "        -1.43894592, -0.04191374, -0.39348803]])"
      ]
     },
     "execution_count": 124,
     "metadata": {},
     "output_type": "execute_result"
    }
   ],
   "source": [
    "np.hstack((a,b))"
   ]
  },
  {
   "cell_type": "code",
   "execution_count": 125,
   "id": "a1959146-66d9-497c-8f57-1be47114171e",
   "metadata": {},
   "outputs": [
    {
     "data": {
      "text/plain": [
       "array([[ 1.1       , -1.51964747, -1.70515445,  0.30323689],\n",
       "       [-1.29574692, -1.07319566, -0.31664808, -0.98178065],\n",
       "       [ 1.1       ,  1.1       ,  1.1       , -0.0519881 ],\n",
       "       [-1.63304931, -1.43894592, -0.04191374, -0.39348803]])"
      ]
     },
     "execution_count": 125,
     "metadata": {},
     "output_type": "execute_result"
    }
   ],
   "source": [
    "np.vstack((a,b))"
   ]
  },
  {
   "cell_type": "code",
   "execution_count": 126,
   "id": "d3ddd44a-f247-468d-8f89-4b42c47cd13c",
   "metadata": {},
   "outputs": [
    {
     "data": {
      "text/plain": [
       "array([[ 1.1       , -1.51964747, -1.70515445,  0.30323689,  1.1       ,\n",
       "         1.1       ,  1.1       , -0.0519881 ],\n",
       "       [-1.29574692, -1.07319566, -0.31664808, -0.98178065, -1.63304931,\n",
       "        -1.43894592, -0.04191374, -0.39348803]])"
      ]
     },
     "execution_count": 126,
     "metadata": {},
     "output_type": "execute_result"
    }
   ],
   "source": [
    "np.concatenate((a,b),axis=1)"
   ]
  },
  {
   "cell_type": "code",
   "execution_count": 127,
   "id": "c37d1528-3d36-4fca-a1ad-01c25c2fe871",
   "metadata": {},
   "outputs": [
    {
     "data": {
      "text/plain": [
       "array([[ 1.1       , -1.51964747, -1.70515445,  0.30323689],\n",
       "       [-1.29574692, -1.07319566, -0.31664808, -0.98178065],\n",
       "       [ 1.1       ,  1.1       ,  1.1       , -0.0519881 ],\n",
       "       [-1.63304931, -1.43894592, -0.04191374, -0.39348803]])"
      ]
     },
     "execution_count": 127,
     "metadata": {},
     "output_type": "execute_result"
    }
   ],
   "source": [
    "np.concatenate((a,b),axis=0)"
   ]
  },
  {
   "cell_type": "markdown",
   "id": "7578a2ee-618e-4fd6-b57a-a791d654e293",
   "metadata": {
    "jp-MarkdownHeadingCollapsed": true
   },
   "source": [
    "#### 分割"
   ]
  },
  {
   "cell_type": "code",
   "execution_count": 130,
   "id": "33b2f540-63dc-4450-8625-79859cf14a6a",
   "metadata": {},
   "outputs": [],
   "source": [
    "# arrage()函数，和range()函数相似，区别在于可以直接返回需要的数据类型\n",
    "x = np.arange(9.0)"
   ]
  },
  {
   "cell_type": "code",
   "execution_count": 131,
   "id": "512376ec-42b9-4a0e-b459-cdb5b92ce061",
   "metadata": {},
   "outputs": [
    {
     "data": {
      "text/plain": [
       "[array([0., 1., 2.]), array([3., 4., 5.]), array([6., 7., 8.])]"
      ]
     },
     "execution_count": 131,
     "metadata": {},
     "output_type": "execute_result"
    }
   ],
   "source": [
    "np.split(x,3)"
   ]
  },
  {
   "cell_type": "code",
   "execution_count": 132,
   "id": "65b63cac-693c-4681-90a7-884f95e9176f",
   "metadata": {},
   "outputs": [],
   "source": [
    "x = np.arange(8.0)"
   ]
  },
  {
   "cell_type": "code",
   "execution_count": 133,
   "id": "0a8083c8-50b8-471b-ac6e-6a2708da38a6",
   "metadata": {},
   "outputs": [
    {
     "data": {
      "text/plain": [
       "[array([0., 1., 2.]),\n",
       " array([3., 4.]),\n",
       " array([5.]),\n",
       " array([6., 7.]),\n",
       " array([], dtype=float64)]"
      ]
     },
     "execution_count": 133,
     "metadata": {},
     "output_type": "execute_result"
    }
   ],
   "source": [
    "np.split(x,[3,5,6,10])"
   ]
  },
  {
   "cell_type": "markdown",
   "id": "d08700c5-becb-4723-8f3e-2daa193158b5",
   "metadata": {
    "jp-MarkdownHeadingCollapsed": true
   },
   "source": [
    "### IO操作和数据处理"
   ]
  },
  {
   "cell_type": "code",
   "execution_count": 134,
   "id": "44461b27-6a3f-46ae-99e7-a9f941d36b45",
   "metadata": {},
   "outputs": [],
   "source": [
    "# delimiter=\",\" —— 表示的是分隔符是\",\"！！！\n",
    "data = np.genfromtxt(\"test.csv\", delimiter=\",\")"
   ]
  },
  {
   "cell_type": "code",
   "execution_count": 135,
   "id": "5001e4f6-1c3b-435e-b8d5-b4b49f33533a",
   "metadata": {},
   "outputs": [
    {
     "data": {
      "text/plain": [
       "array([[  nan,   nan,   nan,   nan],\n",
       "       [  1. , 123. ,   1.4,  23. ],\n",
       "       [  2. , 110. ,   nan,  18. ],\n",
       "       [  3. ,   nan,   2.1,  19. ]])"
      ]
     },
     "execution_count": 135,
     "metadata": {},
     "output_type": "execute_result"
    }
   ],
   "source": [
    "data"
   ]
  },
  {
   "cell_type": "markdown",
   "id": "26609f60-59d6-42b0-ae2a-b30ee0414ea2",
   "metadata": {
    "jp-MarkdownHeadingCollapsed": true
   },
   "source": [
    "#### 如何处理缺失值\n",
    "+ 直接删除\n",
    "+ 差补/替换"
   ]
  },
  {
   "cell_type": "code",
   "execution_count": 136,
   "id": "da5a689b-1188-4c3e-ad86-4689efed736b",
   "metadata": {},
   "outputs": [
    {
     "data": {
      "text/plain": [
       "numpy.float64"
      ]
     },
     "execution_count": 136,
     "metadata": {},
     "output_type": "execute_result"
    }
   ],
   "source": [
    "type(data[2,2])"
   ]
  },
  {
   "cell_type": "code",
   "execution_count": 138,
   "id": "e6765212-e95e-435d-84a8-db46b159631a",
   "metadata": {},
   "outputs": [
    {
     "data": {
      "text/plain": [
       "numpy.float64"
      ]
     },
     "execution_count": 138,
     "metadata": {},
     "output_type": "execute_result"
    }
   ],
   "source": [
    "# 什么是nan缺失值？当我们读取本地文件为float的时候，如果有缺失（或者是None），就会出现nan\n",
    "type(data[0,0])"
   ]
  },
  {
   "cell_type": "code",
   "execution_count": 139,
   "id": "1e9d5335-30c9-4a93-a3ef-c0cdefe1f077",
   "metadata": {},
   "outputs": [],
   "source": [
    "# 处理逻辑，不过一般不使用\n",
    "def fill_nan_by_column_mean(t):\n",
    "    for i in range(t.shape[1]):\n",
    "        # 计算nan的个数\n",
    "        nan_num = np.count_nonzero(t[:, i][t[:, i] != t[:, i]])\n",
    "        if nan_num > 0:\n",
    "            now_col = t[:, i]\n",
    "            # 求和\n",
    "            now_col_not_nan = now_col[np.isnan(now_col) == False].sum()\n",
    "            # 和/个数\n",
    "            now_col_mean = now_col_not_nan / (t.shape[0] - nan_num)\n",
    "            # 赋值给now_col\n",
    "            now_col[np.isnan(now_col)] = now_col_mean\n",
    "            # 赋值给t，即更新t的当前列\n",
    "            t[:, i] = now_col\n",
    "    return t"
   ]
  },
  {
   "cell_type": "code",
   "execution_count": 141,
   "id": "ffc7fd25-a200-40a8-afd8-a8fbf4c5f9cb",
   "metadata": {},
   "outputs": [
    {
     "data": {
      "text/plain": [
       "array([[  2.  , 116.5 ,   1.75,  20.  ],\n",
       "       [  1.  , 123.  ,   1.4 ,  23.  ],\n",
       "       [  2.  , 110.  ,   1.75,  18.  ],\n",
       "       [  3.  , 116.5 ,   2.1 ,  19.  ]])"
      ]
     },
     "execution_count": 141,
     "metadata": {},
     "output_type": "execute_result"
    }
   ],
   "source": [
    "# 插补，使用平均值进行替换........\n",
    "fill_nan_by_column_mean(data)"
   ]
  }
 ],
 "metadata": {
  "kernelspec": {
   "display_name": "Python 3 (ipykernel)",
   "language": "python",
   "name": "python3"
  },
  "language_info": {
   "codemirror_mode": {
    "name": "ipython",
    "version": 3
   },
   "file_extension": ".py",
   "mimetype": "text/x-python",
   "name": "python",
   "nbconvert_exporter": "python",
   "pygments_lexer": "ipython3",
   "version": "3.12.0"
  }
 },
 "nbformat": 4,
 "nbformat_minor": 5
}
