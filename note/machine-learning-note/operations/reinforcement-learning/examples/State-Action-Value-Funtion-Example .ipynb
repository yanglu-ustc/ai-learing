{
 "cells": [
  {
   "cell_type": "code",
   "execution_count": 1,
   "id": "da482063-96b4-442b-9f7a-a774c4360326",
   "metadata": {},
   "outputs": [],
   "source": [
    "import numpy as np\n",
    "from utils import *"
   ]
  },
  {
   "cell_type": "code",
   "execution_count": 2,
   "id": "721de8ac-4d42-494d-94fa-359994dfb1ce",
   "metadata": {},
   "outputs": [],
   "source": [
    "num_states = 6\n",
    "num_actions = 2"
   ]
  },
  {
   "cell_type": "code",
   "execution_count": 5,
   "id": "088b7a5d-e07d-4b86-9f31-a8c8c5104ec3",
   "metadata": {},
   "outputs": [],
   "source": [
    "terminal_left_reward = 100\n",
    "terminal_right_reward = 10\n",
    "each_step_reward = 0\n",
    "\n",
    "# Direction factor\n",
    "gamma = 0.5\n",
    "\n",
    "# Possibility of going in the wrong direction\n",
    "misstep_prob = 0"
   ]
  },
  {
   "cell_type": "code",
   "execution_count": 6,
   "id": "8e6b0e38-65e9-4b09-8a76-94420eb587a5",
   "metadata": {},
   "outputs": [
    {
     "ename": "NameError",
     "evalue": "name 'generate_visualization' is not defined",
     "output_type": "error",
     "traceback": [
      "\u001b[1;31m---------------------------------------------------------------------------\u001b[0m",
      "\u001b[1;31mNameError\u001b[0m                                 Traceback (most recent call last)",
      "Cell \u001b[1;32mIn[6], line 1\u001b[0m\n\u001b[1;32m----> 1\u001b[0m \u001b[43mgenerate_visualization\u001b[49m(terminal_left_reward, terminal_right_reward, each_step_reward, gamma, misstep_prob)\n",
      "\u001b[1;31mNameError\u001b[0m: name 'generate_visualization' is not defined"
     ]
    }
   ],
   "source": [
    "generate_visualization(terminal_left_reward, terminal_right_reward, each_step_reward, gamma, misstep_prob)"
   ]
  }
 ],
 "metadata": {
  "kernelspec": {
   "display_name": "Python 3 (ipykernel)",
   "language": "python",
   "name": "python3"
  },
  "language_info": {
   "codemirror_mode": {
    "name": "ipython",
    "version": 3
   },
   "file_extension": ".py",
   "mimetype": "text/x-python",
   "name": "python",
   "nbconvert_exporter": "python",
   "pygments_lexer": "ipython3",
   "version": "3.12.0"
  }
 },
 "nbformat": 4,
 "nbformat_minor": 5
}
