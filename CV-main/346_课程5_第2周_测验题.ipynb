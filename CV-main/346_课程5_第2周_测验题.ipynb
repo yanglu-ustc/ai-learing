{
 "cells": [
  {
   "cell_type": "markdown",
   "metadata": {},
   "source": [
    "# ***课程5_第2周_测验题***"
   ]
  },
  {
   "cell_type": "markdown",
   "metadata": {},
   "source": [
    "# 第一题"
   ]
  },
  {
   "cell_type": "markdown",
   "metadata": {},
   "source": [
    "1.假设你为10000个单词学习词嵌入，为了捕获全部范围的单词的变化以及意义，那么词嵌入向量应该是10000维的。\n",
    "\n",
    "A. 【  】正确\n",
    "\n",
    "B. 【  】错误"
   ]
  },
  {
   "cell_type": "markdown",
   "metadata": {},
   "source": [
    "答案：  \n",
    "\n",
    "B.【 √ 】错误"
   ]
  },
  {
   "cell_type": "markdown",
   "metadata": {},
   "source": [
    "# 第二题"
   ]
  },
  {
   "cell_type": "markdown",
   "metadata": {},
   "source": [
    "2.什么是t-SNE？\n",
    "\n",
    "A. 【  】一种非线性降维算法\n",
    "\n",
    "B. 【  】一种能够解决词向量上的类比的线性变换\n",
    "\n",
    "C. 【  】一种用于学习词嵌入的监督学习算法\n",
    "\n",
    "D. 【  】一个开源序列模型库"
   ]
  },
  {
   "cell_type": "markdown",
   "metadata": {},
   "source": [
    "答案：  \n",
    "\n",
    "A.【 √ 】一种非线性降维算法"
   ]
  },
  {
   "cell_type": "markdown",
   "metadata": {},
   "source": [
    "# 第三题"
   ]
  },
  {
   "attachments": {
    "image.png": {
     "image/png": "[encoded data removed]"
    }
   },
   "cell_type": "markdown",
   "metadata": {},
   "source": [
    "3.假设你下载了一个已经在一个很大的文本语料库上训练过的词嵌入的数据，然后你要用这个词嵌入来训练RNN并用于识别一段文字中的情感，判断这段文字的内容是否表达了“快乐”。那么即使“欣喜若狂”这个词没有出现在你的小训练集中，你的RNN也会认为“我欣喜若狂”应该被贴上\n",
    "$y = 1$的标签。\n",
    "\n",
    "![image.png](attachment:image.png)\n",
    "\n",
    "A. 【  】正确\n",
    "\n",
    "B. 【  】错误"
   ]
  },
  {
   "cell_type": "markdown",
   "metadata": {},
   "source": [
    "答案：  \n",
    "\n",
    "A.【 √ 】正确"
   ]
  },
  {
   "cell_type": "markdown",
   "metadata": {},
   "source": [
    "# 第四题"
   ]
  },
  {
   "cell_type": "markdown",
   "metadata": {},
   "source": [
    "4.对于词嵌入而言，下面哪一个（些）方程是成立的？\n",
    "\n",
    "A. 【  】$e_{boy}−e_{girl} \\approx e_{brother}−e_{sister}$\n",
    "\n",
    "B. 【  】$e_{boy}−e_{girl} \\approx e_{sister}−e_{brother}$\n",
    "\n",
    "C. 【  】$e_{boy} - e_{brother} \\approx e_{girl} - e_{sister}$\n",
    "\n",
    "D. 【  】$e_{boy} - e_{brother} \\approx e_{sister} - e_{girl}$"
   ]
  },
  {
   "cell_type": "markdown",
   "metadata": {},
   "source": [
    "答案：  \n",
    "\n",
    "A.【 √ 】$e_{boy}−e_{girl} \\approx e_{brother}−e_{sister}$\n",
    "\n",
    "C.【 √ 】$e_{boy} - e_{brother} \\approx e_{girl} - e_{sister}$"
   ]
  },
  {
   "cell_type": "markdown",
   "metadata": {},
   "source": [
    "# 第五题"
   ]
  },
  {
   "cell_type": "markdown",
   "metadata": {},
   "source": [
    "5.设$E$为嵌入矩阵，$e_{1234}$对应的是词“1234”的独热向量，为了获得1234的词嵌入，为什么不直接在Python中使用代码$E∗e_{1234}$呢？\n",
    "\n",
    "A. 【  】因为这个操作是在浪费计算资源\n",
    "\n",
    "B. 【  】因为正确的计算方式是$E^T ∗ e_{1234}$\n",
    "\n",
    "C. 【  】因为它没有办法处理未知的单词$（<UNK>）$\n",
    "\n",
    "D. 【  】以上全都不对，因为直接调用$E∗e_{1234}$是最好的方案"
   ]
  },
  {
   "cell_type": "markdown",
   "metadata": {},
   "source": [
    "答案：  \n",
    "\n",
    "A.【 √ 】因为这个操作是在浪费计算资源"
   ]
  },
  {
   "cell_type": "markdown",
   "metadata": {},
   "source": [
    "# 第六题"
   ]
  },
  {
   "cell_type": "markdown",
   "metadata": {},
   "source": [
    "6.在学习词嵌入时，我们创建了一个预测$P(target \\mid context)$的任务，如果这个预测做的不是很好那也是没有关系的，因为这个任务更重要的是学习了一组有用的嵌入词。\n",
    "\n",
    "A. 【  】正确\n",
    "\n",
    "B. 【  】错误"
   ]
  },
  {
   "cell_type": "markdown",
   "metadata": {},
   "source": [
    "答案：  \n",
    "\n",
    "B.【 √ 】错误"
   ]
  },
  {
   "cell_type": "markdown",
   "metadata": {},
   "source": [
    "# 第七题"
   ]
  },
  {
   "cell_type": "markdown",
   "metadata": {},
   "source": [
    "7.在word2vec算法中，你要预测$P(t \\mid c)$，其中$t$是目标词（target word），$c$是语境词（context word）。你应当在训练集中怎样选择$t$与$c$呢？\n",
    "\n",
    "A. 【  】$c$与$t$应当在附近词中\n",
    "\n",
    "B. 【  】$c$在$t$前面的一个词\n",
    "\n",
    "C. 【  】$c$是$t$之前句子中所有单词的序列\n",
    "\n",
    "D. 【  】$c$是$t$之前句子中几个单词的序列"
   ]
  },
  {
   "cell_type": "markdown",
   "metadata": {},
   "source": [
    "答案：  \n",
    "\n",
    "A.【 √ 】$c$与$t$应当在附近词中"
   ]
  },
  {
   "cell_type": "markdown",
   "metadata": {},
   "source": [
    "# 第八题"
   ]
  },
  {
   "cell_type": "markdown",
   "metadata": {},
   "source": [
    "8.假设你有1000个单词词汇，并且正在学习500维的词嵌入，word2vec模型使用下面的softmax函数,以下说法中哪一个（些）是正确的？\n",
    "\n",
    "$$P(t \\mid c)=\\frac{e^{\\theta_t^T e_c}}{\\sum_{t'=1}^{10000} e^{\\theta_{t'}^T e_c}}$$\n",
    "\n",
    "A. 【  】$\\theta_t$与$e_c$都是500维的向量\n",
    "\n",
    "B. 【  】$\\theta_t$与$e_c$都是10000维的向量\n",
    " \n",
    "C. 【  】$\\theta_t$与$e_c$都是通过Adam或梯度下降等优化算法进行训练的\n",
    " \n",
    "D. 【  】训练之后，$\\theta_t$应该非常接近$e_c$，因为t和c是一个词"
   ]
  },
  {
   "cell_type": "markdown",
   "metadata": {},
   "source": [
    "答案：  \n",
    "\n",
    "A.【 √ 】$\\theta_t$与$e_c$都是500维的向量\n",
    "\n",
    "C.【 √ 】$\\theta_t$与$e_c$都是通过Adam或梯度下降等优化算法进行训练的"
   ]
  },
  {
   "cell_type": "markdown",
   "metadata": {},
   "source": [
    "# 第九题"
   ]
  },
  {
   "cell_type": "markdown",
   "metadata": {},
   "source": [
    "9.假设你有10000个单词词汇，并且正在学习500维的词嵌入，GloVe模型最小化了这个目标，以下说法中哪一个（些）是正确的？\n",
    "\n",
    "$$\\min \\sum^{10,000}_{i=1}\\sum^{10,000}_{j=1}f(X_{ij})(\\theta^T_ie_j+b_i+b′_j−logX_{ij})^2$$\n",
    "\n",
    "A. 【  】$\\theta_i$与$e_j$应当初始化为0\n",
    "\n",
    "B. 【  】$\\theta_i$与$e_je$应当使用随机数进行初始化\n",
    "\n",
    "C. 【  】$X_{ij}$是单词i在j中出现的次数\n",
    "\n",
    "D. 【  】加权函数$f(.)$必须满足$f(0)=0$"
   ]
  },
  {
   "cell_type": "markdown",
   "metadata": {},
   "source": [
    "答案：  \n",
    "\n",
    "B.【 √ 】$\\theta_i$与$e_je$应当使用随机数进行初始化\n",
    "\n",
    "C.【 √ 】$X_{ij}$是单词i在j中出现的次数\n",
    "\n",
    "D.【 √ 】加权函数$f(.)$必须满足$f(0)=0$"
   ]
  },
  {
   "cell_type": "markdown",
   "metadata": {},
   "source": [
    "# 第十题"
   ]
  },
  {
   "cell_type": "markdown",
   "metadata": {},
   "source": [
    "10.你已经在文本数据集$m_1$上训练了词嵌入，现在准备将它用于一个语言任务中，对于这个任务，你有一个单独标记的数据集$m_2$，请记住，使用词嵌入是一种迁移学习的形式。在以下那种情况中，词嵌入会有帮助？\n",
    "\n",
    "A. 【  】$m_1 \\gg m_2$\n",
    "\n",
    "B. 【  】$m_1 \\ll m_2$"
   ]
  },
  {
   "cell_type": "markdown",
   "metadata": {},
   "source": [
    "答案：  \n",
    "\n",
    "A.【 √ 】$m_1 \\gg m_2$"
   ]
  }
 ],
 "metadata": {
  "kernelspec": {
   "display_name": "Python 3.6.3",
   "language": "python",
   "name": "python3.6.3"
  },
  "language_info": {
   "codemirror_mode": {
    "name": "ipython",
    "version": 3
   },
   "file_extension": ".py",
   "mimetype": "text/x-python",
   "name": "python",
   "nbconvert_exporter": "python",
   "pygments_lexer": "ipython3",
   "version": "3.6.3"
  },
  "toc": {
   "base_numbering": 1,
   "nav_menu": {},
   "number_sections": false,
   "sideBar": true,
   "skip_h1_title": false,
   "title_cell": "Table of Contents",
   "title_sidebar": "Contents",
   "toc_cell": false,
   "toc_position": {},
   "toc_section_display": true,
   "toc_window_display": true
  }
 },
 "nbformat": 4,
 "nbformat_minor": 4
}
